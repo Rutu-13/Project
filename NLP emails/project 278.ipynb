{
 "cells": [
  {
   "cell_type": "markdown",
   "id": "14252342",
   "metadata": {},
   "source": [
    "# NLP Emails"
   ]
  },
  {
   "cell_type": "markdown",
   "id": "bb8a94aa",
   "metadata": {},
   "source": [
    "# Business Objective:\n",
    "\n",
    "- Inappropriate emails would demotivates \n",
    "and spoil the positive environment that would lead to more attrition rate and low productivity and Inappropriate emails could be on form of bullying,racism,sexual favoritism and hate in the gender or culture,in today's world so dominated by email no organization is immune to these hate emails.\n",
    "# The goal of the project is to identify such emails in the given day based on the above inappropriate content\n"
   ]
  },
  {
   "cell_type": "markdown",
   "id": "69833896",
   "metadata": {},
   "source": [
    "# Import Library"
   ]
  },
  {
   "cell_type": "code",
   "execution_count": 1,
   "id": "cea7d780",
   "metadata": {},
   "outputs": [],
   "source": [
    "#Basic Libraries\n",
    "\n",
    "import pandas as pd \n",
    "import numpy as np\n",
    "import re\n",
    "import numpy\n",
    "import warnings\n",
    "warnings.filterwarnings('ignore')\n",
    "# For NLP & Preprocessing\n",
    "\n",
    "import nltk\n",
    "from nltk.stem import WordNetLemmatizer\n",
    "from nltk import FreqDist\n",
    "from wordcloud import WordCloud,STOPWORDS #Better stopwords here\n",
    "from nltk.sentiment.vader import SentimentIntensityAnalyzer\n",
    "from sklearn.model_selection import train_test_split\n",
    "from sklearn.feature_extraction.text import TfidfTransformer\n",
    "#Visualizations\n",
    "\n",
    "import seaborn as sns\n",
    "from matplotlib import pyplot as plt\n",
    "from matplotlib.pyplot import figure\n"
   ]
  },
  {
   "cell_type": "markdown",
   "id": "b69ea06e",
   "metadata": {},
   "source": [
    "# Uploading CSV File"
   ]
  },
  {
   "cell_type": "code",
   "execution_count": 2,
   "id": "08b79f9b",
   "metadata": {},
   "outputs": [
    {
     "data": {
      "text/html": [
       "<div>\n",
       "<style scoped>\n",
       "    .dataframe tbody tr th:only-of-type {\n",
       "        vertical-align: middle;\n",
       "    }\n",
       "\n",
       "    .dataframe tbody tr th {\n",
       "        vertical-align: top;\n",
       "    }\n",
       "\n",
       "    .dataframe thead th {\n",
       "        text-align: right;\n",
       "    }\n",
       "</style>\n",
       "<table border=\"1\" class=\"dataframe\">\n",
       "  <thead>\n",
       "    <tr style=\"text-align: right;\">\n",
       "      <th></th>\n",
       "      <th>Unnamed: 0</th>\n",
       "      <th>filename</th>\n",
       "      <th>Message-ID</th>\n",
       "      <th>content</th>\n",
       "      <th>Class</th>\n",
       "    </tr>\n",
       "  </thead>\n",
       "  <tbody>\n",
       "    <tr>\n",
       "      <th>0</th>\n",
       "      <td>0</td>\n",
       "      <td>arnold-j/_sent_mail/34.</td>\n",
       "      <td>&lt;15267340.1075857594923.JavaMail.evans@thyme&gt;</td>\n",
       "      <td>eat shit\\n\\n\\n\\n\\nJohn J Lavorato@excelr\\n11/1...</td>\n",
       "      <td>Abusive</td>\n",
       "    </tr>\n",
       "    <tr>\n",
       "      <th>1</th>\n",
       "      <td>1</td>\n",
       "      <td>arnold-j/_sent_mail/517.</td>\n",
       "      <td>&lt;15539583.1075857652152.JavaMail.evans@thyme&gt;</td>\n",
       "      <td>fuck you</td>\n",
       "      <td>Abusive</td>\n",
       "    </tr>\n",
       "    <tr>\n",
       "      <th>2</th>\n",
       "      <td>2</td>\n",
       "      <td>arnold-j/_sent_mail/743.</td>\n",
       "      <td>&lt;4339799.1075857657711.JavaMail.evans@thyme&gt;</td>\n",
       "      <td>Gentlemen:\\nThe following champagne is availab...</td>\n",
       "      <td>Abusive</td>\n",
       "    </tr>\n",
       "    <tr>\n",
       "      <th>3</th>\n",
       "      <td>3</td>\n",
       "      <td>arnold-j/_sent_mail/766.</td>\n",
       "      <td>&lt;25574783.1075857658215.JavaMail.evans@thyme&gt;</td>\n",
       "      <td>sorry i've taken so long...just been trying to...</td>\n",
       "      <td>Abusive</td>\n",
       "    </tr>\n",
       "    <tr>\n",
       "      <th>4</th>\n",
       "      <td>4</td>\n",
       "      <td>arnold-j/_sent_mail/797.</td>\n",
       "      <td>&lt;19506151.1075857658895.JavaMail.evans@thyme&gt;</td>\n",
       "      <td>asshole\\n\\n\\n\\n\\nJohn J Lavorato@excelr\\n12/23...</td>\n",
       "      <td>Abusive</td>\n",
       "    </tr>\n",
       "    <tr>\n",
       "      <th>...</th>\n",
       "      <td>...</td>\n",
       "      <td>...</td>\n",
       "      <td>...</td>\n",
       "      <td>...</td>\n",
       "      <td>...</td>\n",
       "    </tr>\n",
       "    <tr>\n",
       "      <th>48071</th>\n",
       "      <td>48071</td>\n",
       "      <td>campbell-l/notes_inbox/133.</td>\n",
       "      <td>&lt;6503484.1075857876489.JavaMail.evans@thyme&gt;</td>\n",
       "      <td>Dear Market Participants,\\n\\nPlease note the c...</td>\n",
       "      <td>Non Abusive</td>\n",
       "    </tr>\n",
       "    <tr>\n",
       "      <th>48072</th>\n",
       "      <td>48072</td>\n",
       "      <td>campbell-l/notes_inbox/134.</td>\n",
       "      <td>&lt;17277180.1075857876513.JavaMail.evans@thyme&gt;</td>\n",
       "      <td>According to my fancy ciphering we made $310,0...</td>\n",
       "      <td>Non Abusive</td>\n",
       "    </tr>\n",
       "    <tr>\n",
       "      <th>48073</th>\n",
       "      <td>48073</td>\n",
       "      <td>campbell-l/notes_inbox/135.</td>\n",
       "      <td>&lt;31066400.1075857876537.JavaMail.evans@thyme&gt;</td>\n",
       "      <td>BUSINESS HIGHLIGHTS\\n\\nWeather Group\\n\\nLet=01...</td>\n",
       "      <td>Non Abusive</td>\n",
       "    </tr>\n",
       "    <tr>\n",
       "      <th>48074</th>\n",
       "      <td>48074</td>\n",
       "      <td>campbell-l/notes_inbox/136.</td>\n",
       "      <td>&lt;26024436.1075857876659.JavaMail.evans@thyme&gt;</td>\n",
       "      <td>Welcome to: DIAMONDS NEWSLETTER         Issue:...</td>\n",
       "      <td>Non Abusive</td>\n",
       "    </tr>\n",
       "    <tr>\n",
       "      <th>48075</th>\n",
       "      <td>48075</td>\n",
       "      <td>campbell-l/notes_inbox/137.</td>\n",
       "      <td>&lt;10677824.1075857876692.JavaMail.evans@thyme&gt;</td>\n",
       "      <td>---------------------- Forwarded by Tamara Jae...</td>\n",
       "      <td>Non Abusive</td>\n",
       "    </tr>\n",
       "  </tbody>\n",
       "</table>\n",
       "<p>48076 rows × 5 columns</p>\n",
       "</div>"
      ],
      "text/plain": [
       "       Unnamed: 0                     filename  \\\n",
       "0               0      arnold-j/_sent_mail/34.   \n",
       "1               1     arnold-j/_sent_mail/517.   \n",
       "2               2     arnold-j/_sent_mail/743.   \n",
       "3               3     arnold-j/_sent_mail/766.   \n",
       "4               4     arnold-j/_sent_mail/797.   \n",
       "...           ...                          ...   \n",
       "48071       48071  campbell-l/notes_inbox/133.   \n",
       "48072       48072  campbell-l/notes_inbox/134.   \n",
       "48073       48073  campbell-l/notes_inbox/135.   \n",
       "48074       48074  campbell-l/notes_inbox/136.   \n",
       "48075       48075  campbell-l/notes_inbox/137.   \n",
       "\n",
       "                                          Message-ID  \\\n",
       "0      <15267340.1075857594923.JavaMail.evans@thyme>   \n",
       "1      <15539583.1075857652152.JavaMail.evans@thyme>   \n",
       "2       <4339799.1075857657711.JavaMail.evans@thyme>   \n",
       "3      <25574783.1075857658215.JavaMail.evans@thyme>   \n",
       "4      <19506151.1075857658895.JavaMail.evans@thyme>   \n",
       "...                                              ...   \n",
       "48071   <6503484.1075857876489.JavaMail.evans@thyme>   \n",
       "48072  <17277180.1075857876513.JavaMail.evans@thyme>   \n",
       "48073  <31066400.1075857876537.JavaMail.evans@thyme>   \n",
       "48074  <26024436.1075857876659.JavaMail.evans@thyme>   \n",
       "48075  <10677824.1075857876692.JavaMail.evans@thyme>   \n",
       "\n",
       "                                                 content        Class  \n",
       "0      eat shit\\n\\n\\n\\n\\nJohn J Lavorato@excelr\\n11/1...      Abusive  \n",
       "1                                               fuck you      Abusive  \n",
       "2      Gentlemen:\\nThe following champagne is availab...      Abusive  \n",
       "3      sorry i've taken so long...just been trying to...      Abusive  \n",
       "4      asshole\\n\\n\\n\\n\\nJohn J Lavorato@excelr\\n12/23...      Abusive  \n",
       "...                                                  ...          ...  \n",
       "48071  Dear Market Participants,\\n\\nPlease note the c...  Non Abusive  \n",
       "48072  According to my fancy ciphering we made $310,0...  Non Abusive  \n",
       "48073  BUSINESS HIGHLIGHTS\\n\\nWeather Group\\n\\nLet=01...  Non Abusive  \n",
       "48074  Welcome to: DIAMONDS NEWSLETTER         Issue:...  Non Abusive  \n",
       "48075  ---------------------- Forwarded by Tamara Jae...  Non Abusive  \n",
       "\n",
       "[48076 rows x 5 columns]"
      ]
     },
     "execution_count": 2,
     "metadata": {},
     "output_type": "execute_result"
    }
   ],
   "source": [
    "em=pd.read_csv(r\"C:\\Users\\DELL\\Desktop\\project\\New folder\\emails1 (1).csv\")\n",
    "em"
   ]
  },
  {
   "cell_type": "markdown",
   "id": "56ffbfd1",
   "metadata": {},
   "source": [
    "# Data Cleaning"
   ]
  },
  {
   "cell_type": "markdown",
   "id": "4ad7dd5e",
   "metadata": {},
   "source": [
    "# .drop"
   ]
  },
  {
   "cell_type": "code",
   "execution_count": 3,
   "id": "51f1b243",
   "metadata": {},
   "outputs": [
    {
     "data": {
      "text/html": [
       "<div>\n",
       "<style scoped>\n",
       "    .dataframe tbody tr th:only-of-type {\n",
       "        vertical-align: middle;\n",
       "    }\n",
       "\n",
       "    .dataframe tbody tr th {\n",
       "        vertical-align: top;\n",
       "    }\n",
       "\n",
       "    .dataframe thead th {\n",
       "        text-align: right;\n",
       "    }\n",
       "</style>\n",
       "<table border=\"1\" class=\"dataframe\">\n",
       "  <thead>\n",
       "    <tr style=\"text-align: right;\">\n",
       "      <th></th>\n",
       "      <th>filename</th>\n",
       "      <th>Message-ID</th>\n",
       "      <th>content</th>\n",
       "      <th>Class</th>\n",
       "    </tr>\n",
       "  </thead>\n",
       "  <tbody>\n",
       "    <tr>\n",
       "      <th>0</th>\n",
       "      <td>arnold-j/_sent_mail/34.</td>\n",
       "      <td>&lt;15267340.1075857594923.JavaMail.evans@thyme&gt;</td>\n",
       "      <td>eat shit\\n\\n\\n\\n\\nJohn J Lavorato@excelr\\n11/1...</td>\n",
       "      <td>Abusive</td>\n",
       "    </tr>\n",
       "    <tr>\n",
       "      <th>1</th>\n",
       "      <td>arnold-j/_sent_mail/517.</td>\n",
       "      <td>&lt;15539583.1075857652152.JavaMail.evans@thyme&gt;</td>\n",
       "      <td>fuck you</td>\n",
       "      <td>Abusive</td>\n",
       "    </tr>\n",
       "    <tr>\n",
       "      <th>2</th>\n",
       "      <td>arnold-j/_sent_mail/743.</td>\n",
       "      <td>&lt;4339799.1075857657711.JavaMail.evans@thyme&gt;</td>\n",
       "      <td>Gentlemen:\\nThe following champagne is availab...</td>\n",
       "      <td>Abusive</td>\n",
       "    </tr>\n",
       "    <tr>\n",
       "      <th>3</th>\n",
       "      <td>arnold-j/_sent_mail/766.</td>\n",
       "      <td>&lt;25574783.1075857658215.JavaMail.evans@thyme&gt;</td>\n",
       "      <td>sorry i've taken so long...just been trying to...</td>\n",
       "      <td>Abusive</td>\n",
       "    </tr>\n",
       "    <tr>\n",
       "      <th>4</th>\n",
       "      <td>arnold-j/_sent_mail/797.</td>\n",
       "      <td>&lt;19506151.1075857658895.JavaMail.evans@thyme&gt;</td>\n",
       "      <td>asshole\\n\\n\\n\\n\\nJohn J Lavorato@excelr\\n12/23...</td>\n",
       "      <td>Abusive</td>\n",
       "    </tr>\n",
       "    <tr>\n",
       "      <th>...</th>\n",
       "      <td>...</td>\n",
       "      <td>...</td>\n",
       "      <td>...</td>\n",
       "      <td>...</td>\n",
       "    </tr>\n",
       "    <tr>\n",
       "      <th>48071</th>\n",
       "      <td>campbell-l/notes_inbox/133.</td>\n",
       "      <td>&lt;6503484.1075857876489.JavaMail.evans@thyme&gt;</td>\n",
       "      <td>Dear Market Participants,\\n\\nPlease note the c...</td>\n",
       "      <td>Non Abusive</td>\n",
       "    </tr>\n",
       "    <tr>\n",
       "      <th>48072</th>\n",
       "      <td>campbell-l/notes_inbox/134.</td>\n",
       "      <td>&lt;17277180.1075857876513.JavaMail.evans@thyme&gt;</td>\n",
       "      <td>According to my fancy ciphering we made $310,0...</td>\n",
       "      <td>Non Abusive</td>\n",
       "    </tr>\n",
       "    <tr>\n",
       "      <th>48073</th>\n",
       "      <td>campbell-l/notes_inbox/135.</td>\n",
       "      <td>&lt;31066400.1075857876537.JavaMail.evans@thyme&gt;</td>\n",
       "      <td>BUSINESS HIGHLIGHTS\\n\\nWeather Group\\n\\nLet=01...</td>\n",
       "      <td>Non Abusive</td>\n",
       "    </tr>\n",
       "    <tr>\n",
       "      <th>48074</th>\n",
       "      <td>campbell-l/notes_inbox/136.</td>\n",
       "      <td>&lt;26024436.1075857876659.JavaMail.evans@thyme&gt;</td>\n",
       "      <td>Welcome to: DIAMONDS NEWSLETTER         Issue:...</td>\n",
       "      <td>Non Abusive</td>\n",
       "    </tr>\n",
       "    <tr>\n",
       "      <th>48075</th>\n",
       "      <td>campbell-l/notes_inbox/137.</td>\n",
       "      <td>&lt;10677824.1075857876692.JavaMail.evans@thyme&gt;</td>\n",
       "      <td>---------------------- Forwarded by Tamara Jae...</td>\n",
       "      <td>Non Abusive</td>\n",
       "    </tr>\n",
       "  </tbody>\n",
       "</table>\n",
       "<p>48076 rows × 4 columns</p>\n",
       "</div>"
      ],
      "text/plain": [
       "                          filename  \\\n",
       "0          arnold-j/_sent_mail/34.   \n",
       "1         arnold-j/_sent_mail/517.   \n",
       "2         arnold-j/_sent_mail/743.   \n",
       "3         arnold-j/_sent_mail/766.   \n",
       "4         arnold-j/_sent_mail/797.   \n",
       "...                            ...   \n",
       "48071  campbell-l/notes_inbox/133.   \n",
       "48072  campbell-l/notes_inbox/134.   \n",
       "48073  campbell-l/notes_inbox/135.   \n",
       "48074  campbell-l/notes_inbox/136.   \n",
       "48075  campbell-l/notes_inbox/137.   \n",
       "\n",
       "                                          Message-ID  \\\n",
       "0      <15267340.1075857594923.JavaMail.evans@thyme>   \n",
       "1      <15539583.1075857652152.JavaMail.evans@thyme>   \n",
       "2       <4339799.1075857657711.JavaMail.evans@thyme>   \n",
       "3      <25574783.1075857658215.JavaMail.evans@thyme>   \n",
       "4      <19506151.1075857658895.JavaMail.evans@thyme>   \n",
       "...                                              ...   \n",
       "48071   <6503484.1075857876489.JavaMail.evans@thyme>   \n",
       "48072  <17277180.1075857876513.JavaMail.evans@thyme>   \n",
       "48073  <31066400.1075857876537.JavaMail.evans@thyme>   \n",
       "48074  <26024436.1075857876659.JavaMail.evans@thyme>   \n",
       "48075  <10677824.1075857876692.JavaMail.evans@thyme>   \n",
       "\n",
       "                                                 content        Class  \n",
       "0      eat shit\\n\\n\\n\\n\\nJohn J Lavorato@excelr\\n11/1...      Abusive  \n",
       "1                                               fuck you      Abusive  \n",
       "2      Gentlemen:\\nThe following champagne is availab...      Abusive  \n",
       "3      sorry i've taken so long...just been trying to...      Abusive  \n",
       "4      asshole\\n\\n\\n\\n\\nJohn J Lavorato@excelr\\n12/23...      Abusive  \n",
       "...                                                  ...          ...  \n",
       "48071  Dear Market Participants,\\n\\nPlease note the c...  Non Abusive  \n",
       "48072  According to my fancy ciphering we made $310,0...  Non Abusive  \n",
       "48073  BUSINESS HIGHLIGHTS\\n\\nWeather Group\\n\\nLet=01...  Non Abusive  \n",
       "48074  Welcome to: DIAMONDS NEWSLETTER         Issue:...  Non Abusive  \n",
       "48075  ---------------------- Forwarded by Tamara Jae...  Non Abusive  \n",
       "\n",
       "[48076 rows x 4 columns]"
      ]
     },
     "execution_count": 3,
     "metadata": {},
     "output_type": "execute_result"
    }
   ],
   "source": [
    "em.drop('Unnamed: 0',axis=1,inplace=True)\n",
    "em"
   ]
  },
  {
   "cell_type": "markdown",
   "id": "ca07f0fc",
   "metadata": {},
   "source": [
    "# .head() and .tail()"
   ]
  },
  {
   "cell_type": "markdown",
   "id": "0a13656c",
   "metadata": {},
   "source": [
    "head is used show to the By Default=5 rows in the dataset"
   ]
  },
  {
   "cell_type": "code",
   "execution_count": 4,
   "id": "900a5d89",
   "metadata": {},
   "outputs": [
    {
     "name": "stdout",
     "output_type": "stream",
     "text": [
      "                   filename                                     Message-ID  \\\n",
      "0   arnold-j/_sent_mail/34.  <15267340.1075857594923.JavaMail.evans@thyme>   \n",
      "1  arnold-j/_sent_mail/517.  <15539583.1075857652152.JavaMail.evans@thyme>   \n",
      "2  arnold-j/_sent_mail/743.   <4339799.1075857657711.JavaMail.evans@thyme>   \n",
      "3  arnold-j/_sent_mail/766.  <25574783.1075857658215.JavaMail.evans@thyme>   \n",
      "4  arnold-j/_sent_mail/797.  <19506151.1075857658895.JavaMail.evans@thyme>   \n",
      "\n",
      "                                             content    Class  \n",
      "0  eat shit\\n\\n\\n\\n\\nJohn J Lavorato@excelr\\n11/1...  Abusive  \n",
      "1                                           fuck you  Abusive  \n",
      "2  Gentlemen:\\nThe following champagne is availab...  Abusive  \n",
      "3  sorry i've taken so long...just been trying to...  Abusive  \n",
      "4  asshole\\n\\n\\n\\n\\nJohn J Lavorato@excelr\\n12/23...  Abusive  \n"
     ]
    }
   ],
   "source": [
    "em.head()\n",
    "print(em.head())"
   ]
  },
  {
   "cell_type": "code",
   "execution_count": 5,
   "id": "adf94253",
   "metadata": {},
   "outputs": [
    {
     "name": "stdout",
     "output_type": "stream",
     "text": [
      "                          filename  \\\n",
      "48071  campbell-l/notes_inbox/133.   \n",
      "48072  campbell-l/notes_inbox/134.   \n",
      "48073  campbell-l/notes_inbox/135.   \n",
      "48074  campbell-l/notes_inbox/136.   \n",
      "48075  campbell-l/notes_inbox/137.   \n",
      "\n",
      "                                          Message-ID  \\\n",
      "48071   <6503484.1075857876489.JavaMail.evans@thyme>   \n",
      "48072  <17277180.1075857876513.JavaMail.evans@thyme>   \n",
      "48073  <31066400.1075857876537.JavaMail.evans@thyme>   \n",
      "48074  <26024436.1075857876659.JavaMail.evans@thyme>   \n",
      "48075  <10677824.1075857876692.JavaMail.evans@thyme>   \n",
      "\n",
      "                                                 content        Class  \n",
      "48071  Dear Market Participants,\\n\\nPlease note the c...  Non Abusive  \n",
      "48072  According to my fancy ciphering we made $310,0...  Non Abusive  \n",
      "48073  BUSINESS HIGHLIGHTS\\n\\nWeather Group\\n\\nLet=01...  Non Abusive  \n",
      "48074  Welcome to: DIAMONDS NEWSLETTER         Issue:...  Non Abusive  \n",
      "48075  ---------------------- Forwarded by Tamara Jae...  Non Abusive  \n"
     ]
    }
   ],
   "source": [
    "em.tail()\n",
    "print(em.tail())"
   ]
  },
  {
   "cell_type": "markdown",
   "id": "002dfd41",
   "metadata": {},
   "source": [
    "tail is used show rows by Descending order"
   ]
  },
  {
   "cell_type": "markdown",
   "id": "c5c40d1f",
   "metadata": {},
   "source": [
    "# .shape"
   ]
  },
  {
   "cell_type": "markdown",
   "id": "341aef9e",
   "metadata": {},
   "source": [
    "It show the total no of Rows & Column in th dataset."
   ]
  },
  {
   "cell_type": "code",
   "execution_count": 6,
   "id": "09c528c5",
   "metadata": {},
   "outputs": [
    {
     "data": {
      "text/plain": [
       "(48076, 4)"
      ]
     },
     "execution_count": 6,
     "metadata": {},
     "output_type": "execute_result"
    }
   ],
   "source": [
    "em.shape"
   ]
  },
  {
   "cell_type": "markdown",
   "id": "068de08d",
   "metadata": {},
   "source": [
    "#There are 48k records and 4 columns"
   ]
  },
  {
   "cell_type": "code",
   "execution_count": 7,
   "id": "b569e7d3",
   "metadata": {},
   "outputs": [
    {
     "data": {
      "text/plain": [
       "Index(['filename', 'Message-ID', 'content', 'Class'], dtype='object')"
      ]
     },
     "execution_count": 7,
     "metadata": {},
     "output_type": "execute_result"
    }
   ],
   "source": [
    "em.columns"
   ]
  },
  {
   "cell_type": "markdown",
   "id": "46f6a2a4",
   "metadata": {},
   "source": [
    "# Exploratory Data Analysis(EDA)"
   ]
  },
  {
   "cell_type": "markdown",
   "id": "92c93cee",
   "metadata": {},
   "source": [
    "# Basic information - .info()"
   ]
  },
  {
   "cell_type": "code",
   "execution_count": 8,
   "id": "14b84eb6",
   "metadata": {},
   "outputs": [
    {
     "name": "stdout",
     "output_type": "stream",
     "text": [
      "<class 'pandas.core.frame.DataFrame'>\n",
      "RangeIndex: 48076 entries, 0 to 48075\n",
      "Data columns (total 4 columns):\n",
      " #   Column      Non-Null Count  Dtype \n",
      "---  ------      --------------  ----- \n",
      " 0   filename    48076 non-null  object\n",
      " 1   Message-ID  48076 non-null  object\n",
      " 2   content     48076 non-null  object\n",
      " 3   Class       48076 non-null  object\n",
      "dtypes: object(4)\n",
      "memory usage: 1.5+ MB\n"
     ]
    }
   ],
   "source": [
    "em.info()"
   ]
  },
  {
   "cell_type": "markdown",
   "id": "91e1ea16",
   "metadata": {},
   "source": [
    "No null values are visible"
   ]
  },
  {
   "cell_type": "markdown",
   "id": "7afccbf1",
   "metadata": {},
   "source": [
    "# Describe the data -.describe()"
   ]
  },
  {
   "cell_type": "code",
   "execution_count": 9,
   "id": "937cfadb",
   "metadata": {},
   "outputs": [
    {
     "data": {
      "text/html": [
       "<div>\n",
       "<style scoped>\n",
       "    .dataframe tbody tr th:only-of-type {\n",
       "        vertical-align: middle;\n",
       "    }\n",
       "\n",
       "    .dataframe tbody tr th {\n",
       "        vertical-align: top;\n",
       "    }\n",
       "\n",
       "    .dataframe thead th {\n",
       "        text-align: right;\n",
       "    }\n",
       "</style>\n",
       "<table border=\"1\" class=\"dataframe\">\n",
       "  <thead>\n",
       "    <tr style=\"text-align: right;\">\n",
       "      <th></th>\n",
       "      <th>filename</th>\n",
       "      <th>Message-ID</th>\n",
       "      <th>content</th>\n",
       "      <th>Class</th>\n",
       "    </tr>\n",
       "  </thead>\n",
       "  <tbody>\n",
       "    <tr>\n",
       "      <th>count</th>\n",
       "      <td>48076</td>\n",
       "      <td>48076</td>\n",
       "      <td>48076</td>\n",
       "      <td>48076</td>\n",
       "    </tr>\n",
       "    <tr>\n",
       "      <th>unique</th>\n",
       "      <td>48076</td>\n",
       "      <td>48076</td>\n",
       "      <td>24656</td>\n",
       "      <td>2</td>\n",
       "    </tr>\n",
       "    <tr>\n",
       "      <th>top</th>\n",
       "      <td>arnold-j/_sent_mail/34.</td>\n",
       "      <td>&lt;15267340.1075857594923.JavaMail.evans@thyme&gt;</td>\n",
       "      <td>Ken Lay and Jeff Skilling were interviewed on ...</td>\n",
       "      <td>Non Abusive</td>\n",
       "    </tr>\n",
       "    <tr>\n",
       "      <th>freq</th>\n",
       "      <td>1</td>\n",
       "      <td>1</td>\n",
       "      <td>19</td>\n",
       "      <td>44666</td>\n",
       "    </tr>\n",
       "  </tbody>\n",
       "</table>\n",
       "</div>"
      ],
      "text/plain": [
       "                       filename  \\\n",
       "count                     48076   \n",
       "unique                    48076   \n",
       "top     arnold-j/_sent_mail/34.   \n",
       "freq                          1   \n",
       "\n",
       "                                           Message-ID  \\\n",
       "count                                           48076   \n",
       "unique                                          48076   \n",
       "top     <15267340.1075857594923.JavaMail.evans@thyme>   \n",
       "freq                                                1   \n",
       "\n",
       "                                                  content        Class  \n",
       "count                                               48076        48076  \n",
       "unique                                              24656            2  \n",
       "top     Ken Lay and Jeff Skilling were interviewed on ...  Non Abusive  \n",
       "freq                                                   19        44666  "
      ]
     },
     "execution_count": 9,
     "metadata": {},
     "output_type": "execute_result"
    }
   ],
   "source": [
    "em.describe()"
   ]
  },
  {
   "cell_type": "markdown",
   "id": "d40736d8",
   "metadata": {},
   "source": [
    "Notice that there are atually 24k values only for content whereas the rest are duplicated"
   ]
  },
  {
   "cell_type": "markdown",
   "id": "a2233737",
   "metadata": {},
   "source": [
    "# Removing Unwanted features"
   ]
  },
  {
   "cell_type": "markdown",
   "id": "34386da4",
   "metadata": {},
   "source": [
    "After examining filename and Message-ID, we came to the conclusion that these two columns are not useful in our Modelling. We will drop those columns."
   ]
  },
  {
   "cell_type": "code",
   "execution_count": 10,
   "id": "293c9ddf",
   "metadata": {},
   "outputs": [
    {
     "data": {
      "text/html": [
       "<div>\n",
       "<style scoped>\n",
       "    .dataframe tbody tr th:only-of-type {\n",
       "        vertical-align: middle;\n",
       "    }\n",
       "\n",
       "    .dataframe tbody tr th {\n",
       "        vertical-align: top;\n",
       "    }\n",
       "\n",
       "    .dataframe thead th {\n",
       "        text-align: right;\n",
       "    }\n",
       "</style>\n",
       "<table border=\"1\" class=\"dataframe\">\n",
       "  <thead>\n",
       "    <tr style=\"text-align: right;\">\n",
       "      <th></th>\n",
       "      <th>content</th>\n",
       "      <th>Class</th>\n",
       "    </tr>\n",
       "  </thead>\n",
       "  <tbody>\n",
       "    <tr>\n",
       "      <th>0</th>\n",
       "      <td>eat shit\\n\\n\\n\\n\\nJohn J Lavorato@excelr\\n11/1...</td>\n",
       "      <td>Abusive</td>\n",
       "    </tr>\n",
       "    <tr>\n",
       "      <th>1</th>\n",
       "      <td>fuck you</td>\n",
       "      <td>Abusive</td>\n",
       "    </tr>\n",
       "    <tr>\n",
       "      <th>2</th>\n",
       "      <td>Gentlemen:\\nThe following champagne is availab...</td>\n",
       "      <td>Abusive</td>\n",
       "    </tr>\n",
       "    <tr>\n",
       "      <th>3</th>\n",
       "      <td>sorry i've taken so long...just been trying to...</td>\n",
       "      <td>Abusive</td>\n",
       "    </tr>\n",
       "    <tr>\n",
       "      <th>4</th>\n",
       "      <td>asshole\\n\\n\\n\\n\\nJohn J Lavorato@excelr\\n12/23...</td>\n",
       "      <td>Abusive</td>\n",
       "    </tr>\n",
       "    <tr>\n",
       "      <th>...</th>\n",
       "      <td>...</td>\n",
       "      <td>...</td>\n",
       "    </tr>\n",
       "    <tr>\n",
       "      <th>48071</th>\n",
       "      <td>Dear Market Participants,\\n\\nPlease note the c...</td>\n",
       "      <td>Non Abusive</td>\n",
       "    </tr>\n",
       "    <tr>\n",
       "      <th>48072</th>\n",
       "      <td>According to my fancy ciphering we made $310,0...</td>\n",
       "      <td>Non Abusive</td>\n",
       "    </tr>\n",
       "    <tr>\n",
       "      <th>48073</th>\n",
       "      <td>BUSINESS HIGHLIGHTS\\n\\nWeather Group\\n\\nLet=01...</td>\n",
       "      <td>Non Abusive</td>\n",
       "    </tr>\n",
       "    <tr>\n",
       "      <th>48074</th>\n",
       "      <td>Welcome to: DIAMONDS NEWSLETTER         Issue:...</td>\n",
       "      <td>Non Abusive</td>\n",
       "    </tr>\n",
       "    <tr>\n",
       "      <th>48075</th>\n",
       "      <td>---------------------- Forwarded by Tamara Jae...</td>\n",
       "      <td>Non Abusive</td>\n",
       "    </tr>\n",
       "  </tbody>\n",
       "</table>\n",
       "<p>48076 rows × 2 columns</p>\n",
       "</div>"
      ],
      "text/plain": [
       "                                                 content        Class\n",
       "0      eat shit\\n\\n\\n\\n\\nJohn J Lavorato@excelr\\n11/1...      Abusive\n",
       "1                                               fuck you      Abusive\n",
       "2      Gentlemen:\\nThe following champagne is availab...      Abusive\n",
       "3      sorry i've taken so long...just been trying to...      Abusive\n",
       "4      asshole\\n\\n\\n\\n\\nJohn J Lavorato@excelr\\n12/23...      Abusive\n",
       "...                                                  ...          ...\n",
       "48071  Dear Market Participants,\\n\\nPlease note the c...  Non Abusive\n",
       "48072  According to my fancy ciphering we made $310,0...  Non Abusive\n",
       "48073  BUSINESS HIGHLIGHTS\\n\\nWeather Group\\n\\nLet=01...  Non Abusive\n",
       "48074  Welcome to: DIAMONDS NEWSLETTER         Issue:...  Non Abusive\n",
       "48075  ---------------------- Forwarded by Tamara Jae...  Non Abusive\n",
       "\n",
       "[48076 rows x 2 columns]"
      ]
     },
     "execution_count": 10,
     "metadata": {},
     "output_type": "execute_result"
    }
   ],
   "source": [
    "em.drop(['filename', 'Message-ID'],axis=1,inplace=True)\n",
    "em"
   ]
  },
  {
   "cell_type": "code",
   "execution_count": 11,
   "id": "b8024549",
   "metadata": {},
   "outputs": [
    {
     "data": {
      "image/png": "[encoded data removed]",
      "text/plain": [
       "<Figure size 1000x500 with 1 Axes>"
      ]
     },
     "metadata": {},
     "output_type": "display_data"
    }
   ],
   "source": [
    "em['Class'].value_counts().plot(kind='pie',autopct='%1.0f%%',figsize=(10,5))\n",
    "plt.show()"
   ]
  },
  {
   "cell_type": "markdown",
   "id": "e2b1459c",
   "metadata": {},
   "source": [
    "# Duplicate value check"
   ]
  },
  {
   "cell_type": "code",
   "execution_count": 12,
   "id": "c4085d17",
   "metadata": {},
   "outputs": [
    {
     "data": {
      "text/html": [
       "<div>\n",
       "<style scoped>\n",
       "    .dataframe tbody tr th:only-of-type {\n",
       "        vertical-align: middle;\n",
       "    }\n",
       "\n",
       "    .dataframe tbody tr th {\n",
       "        vertical-align: top;\n",
       "    }\n",
       "\n",
       "    .dataframe thead th {\n",
       "        text-align: right;\n",
       "    }\n",
       "</style>\n",
       "<table border=\"1\" class=\"dataframe\">\n",
       "  <thead>\n",
       "    <tr style=\"text-align: right;\">\n",
       "      <th></th>\n",
       "      <th>content</th>\n",
       "      <th>Class</th>\n",
       "    </tr>\n",
       "  </thead>\n",
       "  <tbody>\n",
       "    <tr>\n",
       "      <th>0</th>\n",
       "      <td>eat shit\\n\\n\\n\\n\\nJohn J Lavorato@excelr\\n11/1...</td>\n",
       "      <td>Abusive</td>\n",
       "    </tr>\n",
       "    <tr>\n",
       "      <th>1</th>\n",
       "      <td>fuck you</td>\n",
       "      <td>Abusive</td>\n",
       "    </tr>\n",
       "    <tr>\n",
       "      <th>2</th>\n",
       "      <td>Gentlemen:\\nThe following champagne is availab...</td>\n",
       "      <td>Abusive</td>\n",
       "    </tr>\n",
       "    <tr>\n",
       "      <th>3</th>\n",
       "      <td>sorry i've taken so long...just been trying to...</td>\n",
       "      <td>Abusive</td>\n",
       "    </tr>\n",
       "    <tr>\n",
       "      <th>4</th>\n",
       "      <td>asshole\\n\\n\\n\\n\\nJohn J Lavorato@excelr\\n12/23...</td>\n",
       "      <td>Abusive</td>\n",
       "    </tr>\n",
       "    <tr>\n",
       "      <th>...</th>\n",
       "      <td>...</td>\n",
       "      <td>...</td>\n",
       "    </tr>\n",
       "    <tr>\n",
       "      <th>3405</th>\n",
       "      <td>There is a lot of confused bullshit floating a...</td>\n",
       "      <td>Abusive</td>\n",
       "    </tr>\n",
       "    <tr>\n",
       "      <th>3406</th>\n",
       "      <td>wow, three weeks away from the kids ! brave an...</td>\n",
       "      <td>Abusive</td>\n",
       "    </tr>\n",
       "    <tr>\n",
       "      <th>3407</th>\n",
       "      <td>\\ngot this from late friday. have you ever hea...</td>\n",
       "      <td>Abusive</td>\n",
       "    </tr>\n",
       "    <tr>\n",
       "      <th>3408</th>\n",
       "      <td>\\n\\n -----Original Message-----\\nFrom: \\t\"Enge...</td>\n",
       "      <td>Abusive</td>\n",
       "    </tr>\n",
       "    <tr>\n",
       "      <th>3409</th>\n",
       "      <td>\\nMonday Jan 7,\\nBom traded 33 , 33 , 32.75 , ...</td>\n",
       "      <td>Abusive</td>\n",
       "    </tr>\n",
       "  </tbody>\n",
       "</table>\n",
       "<p>3410 rows × 2 columns</p>\n",
       "</div>"
      ],
      "text/plain": [
       "                                                content    Class\n",
       "0     eat shit\\n\\n\\n\\n\\nJohn J Lavorato@excelr\\n11/1...  Abusive\n",
       "1                                              fuck you  Abusive\n",
       "2     Gentlemen:\\nThe following champagne is availab...  Abusive\n",
       "3     sorry i've taken so long...just been trying to...  Abusive\n",
       "4     asshole\\n\\n\\n\\n\\nJohn J Lavorato@excelr\\n12/23...  Abusive\n",
       "...                                                 ...      ...\n",
       "3405  There is a lot of confused bullshit floating a...  Abusive\n",
       "3406  wow, three weeks away from the kids ! brave an...  Abusive\n",
       "3407  \\ngot this from late friday. have you ever hea...  Abusive\n",
       "3408  \\n\\n -----Original Message-----\\nFrom: \\t\"Enge...  Abusive\n",
       "3409  \\nMonday Jan 7,\\nBom traded 33 , 33 , 32.75 , ...  Abusive\n",
       "\n",
       "[3410 rows x 2 columns]"
      ]
     },
     "execution_count": 12,
     "metadata": {},
     "output_type": "execute_result"
    }
   ],
   "source": [
    "abusive=em[em['Class']=='Abusive']\n",
    "abusive"
   ]
  },
  {
   "cell_type": "code",
   "execution_count": 13,
   "id": "e5c071be",
   "metadata": {},
   "outputs": [
    {
     "data": {
      "text/html": [
       "<div>\n",
       "<style scoped>\n",
       "    .dataframe tbody tr th:only-of-type {\n",
       "        vertical-align: middle;\n",
       "    }\n",
       "\n",
       "    .dataframe tbody tr th {\n",
       "        vertical-align: top;\n",
       "    }\n",
       "\n",
       "    .dataframe thead th {\n",
       "        text-align: right;\n",
       "    }\n",
       "</style>\n",
       "<table border=\"1\" class=\"dataframe\">\n",
       "  <thead>\n",
       "    <tr style=\"text-align: right;\">\n",
       "      <th></th>\n",
       "      <th>content</th>\n",
       "      <th>Class</th>\n",
       "    </tr>\n",
       "  </thead>\n",
       "  <tbody>\n",
       "    <tr>\n",
       "      <th>3410</th>\n",
       "      <td>Here is our forecast\\n\\n</td>\n",
       "      <td>Non Abusive</td>\n",
       "    </tr>\n",
       "    <tr>\n",
       "      <th>3411</th>\n",
       "      <td>Traveling to have a business meeting takes the...</td>\n",
       "      <td>Non Abusive</td>\n",
       "    </tr>\n",
       "    <tr>\n",
       "      <th>3412</th>\n",
       "      <td>test successful.  way to go!!!</td>\n",
       "      <td>Non Abusive</td>\n",
       "    </tr>\n",
       "    <tr>\n",
       "      <th>3413</th>\n",
       "      <td>Randy,\\n\\n Can you send me a schedule of the s...</td>\n",
       "      <td>Non Abusive</td>\n",
       "    </tr>\n",
       "    <tr>\n",
       "      <th>3414</th>\n",
       "      <td>Let's shoot for Tuesday at 11:45.</td>\n",
       "      <td>Non Abusive</td>\n",
       "    </tr>\n",
       "    <tr>\n",
       "      <th>...</th>\n",
       "      <td>...</td>\n",
       "      <td>...</td>\n",
       "    </tr>\n",
       "    <tr>\n",
       "      <th>48071</th>\n",
       "      <td>Dear Market Participants,\\n\\nPlease note the c...</td>\n",
       "      <td>Non Abusive</td>\n",
       "    </tr>\n",
       "    <tr>\n",
       "      <th>48072</th>\n",
       "      <td>According to my fancy ciphering we made $310,0...</td>\n",
       "      <td>Non Abusive</td>\n",
       "    </tr>\n",
       "    <tr>\n",
       "      <th>48073</th>\n",
       "      <td>BUSINESS HIGHLIGHTS\\n\\nWeather Group\\n\\nLet=01...</td>\n",
       "      <td>Non Abusive</td>\n",
       "    </tr>\n",
       "    <tr>\n",
       "      <th>48074</th>\n",
       "      <td>Welcome to: DIAMONDS NEWSLETTER         Issue:...</td>\n",
       "      <td>Non Abusive</td>\n",
       "    </tr>\n",
       "    <tr>\n",
       "      <th>48075</th>\n",
       "      <td>---------------------- Forwarded by Tamara Jae...</td>\n",
       "      <td>Non Abusive</td>\n",
       "    </tr>\n",
       "  </tbody>\n",
       "</table>\n",
       "<p>44666 rows × 2 columns</p>\n",
       "</div>"
      ],
      "text/plain": [
       "                                                 content        Class\n",
       "3410                           Here is our forecast\\n\\n   Non Abusive\n",
       "3411   Traveling to have a business meeting takes the...  Non Abusive\n",
       "3412                      test successful.  way to go!!!  Non Abusive\n",
       "3413   Randy,\\n\\n Can you send me a schedule of the s...  Non Abusive\n",
       "3414                 Let's shoot for Tuesday at 11:45.    Non Abusive\n",
       "...                                                  ...          ...\n",
       "48071  Dear Market Participants,\\n\\nPlease note the c...  Non Abusive\n",
       "48072  According to my fancy ciphering we made $310,0...  Non Abusive\n",
       "48073  BUSINESS HIGHLIGHTS\\n\\nWeather Group\\n\\nLet=01...  Non Abusive\n",
       "48074  Welcome to: DIAMONDS NEWSLETTER         Issue:...  Non Abusive\n",
       "48075  ---------------------- Forwarded by Tamara Jae...  Non Abusive\n",
       "\n",
       "[44666 rows x 2 columns]"
      ]
     },
     "execution_count": 13,
     "metadata": {},
     "output_type": "execute_result"
    }
   ],
   "source": [
    "non_abusive=em[em['Class']=='Non Abusive']\n",
    "non_abusive"
   ]
  },
  {
   "cell_type": "code",
   "execution_count": 14,
   "id": "c72b7ccf",
   "metadata": {},
   "outputs": [
    {
     "data": {
      "text/html": [
       "<div>\n",
       "<style scoped>\n",
       "    .dataframe tbody tr th:only-of-type {\n",
       "        vertical-align: middle;\n",
       "    }\n",
       "\n",
       "    .dataframe tbody tr th {\n",
       "        vertical-align: top;\n",
       "    }\n",
       "\n",
       "    .dataframe thead th {\n",
       "        text-align: right;\n",
       "    }\n",
       "</style>\n",
       "<table border=\"1\" class=\"dataframe\">\n",
       "  <thead>\n",
       "    <tr style=\"text-align: right;\">\n",
       "      <th></th>\n",
       "      <th>content</th>\n",
       "      <th>Class</th>\n",
       "    </tr>\n",
       "  </thead>\n",
       "  <tbody>\n",
       "    <tr>\n",
       "      <th>4014</th>\n",
       "      <td>---------------------- Forwarded by Phillip K ...</td>\n",
       "      <td>Non Abusive</td>\n",
       "    </tr>\n",
       "    <tr>\n",
       "      <th>4015</th>\n",
       "      <td>---------------------- Forwarded by Phillip K ...</td>\n",
       "      <td>Non Abusive</td>\n",
       "    </tr>\n",
       "    <tr>\n",
       "      <th>4016</th>\n",
       "      <td>Dave, \\n\\n Here are the names of the west desk...</td>\n",
       "      <td>Non Abusive</td>\n",
       "    </tr>\n",
       "    <tr>\n",
       "      <th>4017</th>\n",
       "      <td>Paula,\\n\\n 35 million is fine\\n\\nPhillip</td>\n",
       "      <td>Non Abusive</td>\n",
       "    </tr>\n",
       "    <tr>\n",
       "      <th>4018</th>\n",
       "      <td>---------------------- Forwarded by Phillip K ...</td>\n",
       "      <td>Non Abusive</td>\n",
       "    </tr>\n",
       "    <tr>\n",
       "      <th>...</th>\n",
       "      <td>...</td>\n",
       "      <td>...</td>\n",
       "    </tr>\n",
       "    <tr>\n",
       "      <th>48071</th>\n",
       "      <td>Dear Market Participants,\\n\\nPlease note the c...</td>\n",
       "      <td>Non Abusive</td>\n",
       "    </tr>\n",
       "    <tr>\n",
       "      <th>48072</th>\n",
       "      <td>According to my fancy ciphering we made $310,0...</td>\n",
       "      <td>Non Abusive</td>\n",
       "    </tr>\n",
       "    <tr>\n",
       "      <th>48073</th>\n",
       "      <td>BUSINESS HIGHLIGHTS\\n\\nWeather Group\\n\\nLet=01...</td>\n",
       "      <td>Non Abusive</td>\n",
       "    </tr>\n",
       "    <tr>\n",
       "      <th>48074</th>\n",
       "      <td>Welcome to: DIAMONDS NEWSLETTER         Issue:...</td>\n",
       "      <td>Non Abusive</td>\n",
       "    </tr>\n",
       "    <tr>\n",
       "      <th>48075</th>\n",
       "      <td>---------------------- Forwarded by Tamara Jae...</td>\n",
       "      <td>Non Abusive</td>\n",
       "    </tr>\n",
       "  </tbody>\n",
       "</table>\n",
       "<p>21652 rows × 2 columns</p>\n",
       "</div>"
      ],
      "text/plain": [
       "                                                 content        Class\n",
       "4014   ---------------------- Forwarded by Phillip K ...  Non Abusive\n",
       "4015   ---------------------- Forwarded by Phillip K ...  Non Abusive\n",
       "4016   Dave, \\n\\n Here are the names of the west desk...  Non Abusive\n",
       "4017            Paula,\\n\\n 35 million is fine\\n\\nPhillip  Non Abusive\n",
       "4018   ---------------------- Forwarded by Phillip K ...  Non Abusive\n",
       "...                                                  ...          ...\n",
       "48071  Dear Market Participants,\\n\\nPlease note the c...  Non Abusive\n",
       "48072  According to my fancy ciphering we made $310,0...  Non Abusive\n",
       "48073  BUSINESS HIGHLIGHTS\\n\\nWeather Group\\n\\nLet=01...  Non Abusive\n",
       "48074  Welcome to: DIAMONDS NEWSLETTER         Issue:...  Non Abusive\n",
       "48075  ---------------------- Forwarded by Tamara Jae...  Non Abusive\n",
       "\n",
       "[21652 rows x 2 columns]"
      ]
     },
     "execution_count": 14,
     "metadata": {},
     "output_type": "execute_result"
    }
   ],
   "source": [
    "non_abusive[non_abusive.duplicated()]"
   ]
  },
  {
   "cell_type": "code",
   "execution_count": 15,
   "id": "1599fd9f",
   "metadata": {},
   "outputs": [
    {
     "data": {
      "text/html": [
       "<div>\n",
       "<style scoped>\n",
       "    .dataframe tbody tr th:only-of-type {\n",
       "        vertical-align: middle;\n",
       "    }\n",
       "\n",
       "    .dataframe tbody tr th {\n",
       "        vertical-align: top;\n",
       "    }\n",
       "\n",
       "    .dataframe thead th {\n",
       "        text-align: right;\n",
       "    }\n",
       "</style>\n",
       "<table border=\"1\" class=\"dataframe\">\n",
       "  <thead>\n",
       "    <tr style=\"text-align: right;\">\n",
       "      <th></th>\n",
       "      <th>content</th>\n",
       "      <th>Class</th>\n",
       "    </tr>\n",
       "  </thead>\n",
       "  <tbody>\n",
       "    <tr>\n",
       "      <th>3410</th>\n",
       "      <td>Here is our forecast\\n\\n</td>\n",
       "      <td>Non Abusive</td>\n",
       "    </tr>\n",
       "    <tr>\n",
       "      <th>3411</th>\n",
       "      <td>Traveling to have a business meeting takes the...</td>\n",
       "      <td>Non Abusive</td>\n",
       "    </tr>\n",
       "    <tr>\n",
       "      <th>3412</th>\n",
       "      <td>test successful.  way to go!!!</td>\n",
       "      <td>Non Abusive</td>\n",
       "    </tr>\n",
       "    <tr>\n",
       "      <th>3413</th>\n",
       "      <td>Randy,\\n\\n Can you send me a schedule of the s...</td>\n",
       "      <td>Non Abusive</td>\n",
       "    </tr>\n",
       "    <tr>\n",
       "      <th>3414</th>\n",
       "      <td>Let's shoot for Tuesday at 11:45.</td>\n",
       "      <td>Non Abusive</td>\n",
       "    </tr>\n",
       "    <tr>\n",
       "      <th>...</th>\n",
       "      <td>...</td>\n",
       "      <td>...</td>\n",
       "    </tr>\n",
       "    <tr>\n",
       "      <th>47974</th>\n",
       "      <td>Do you need new leads for your business ?\\n D...</td>\n",
       "      <td>Non Abusive</td>\n",
       "    </tr>\n",
       "    <tr>\n",
       "      <th>47975</th>\n",
       "      <td>[IMAGE]\\n  [IMAGE]     [IMAGE] GARTH BROOKS  \"...</td>\n",
       "      <td>Non Abusive</td>\n",
       "    </tr>\n",
       "    <tr>\n",
       "      <th>47977</th>\n",
       "      <td>\\n[IMAGE][IMAGE][IMAGE] \\nDear SmartReminders ...</td>\n",
       "      <td>Non Abusive</td>\n",
       "    </tr>\n",
       "    <tr>\n",
       "      <th>47980</th>\n",
       "      <td>\\n[IMAGE]\\n  [IMAGE]   [IMAGE]    [IMAGE] KID ...</td>\n",
       "      <td>Non Abusive</td>\n",
       "    </tr>\n",
       "    <tr>\n",
       "      <th>47981</th>\n",
       "      <td>\\nYou received this e-mail because you registe...</td>\n",
       "      <td>Non Abusive</td>\n",
       "    </tr>\n",
       "  </tbody>\n",
       "</table>\n",
       "<p>23014 rows × 2 columns</p>\n",
       "</div>"
      ],
      "text/plain": [
       "                                                 content        Class\n",
       "3410                           Here is our forecast\\n\\n   Non Abusive\n",
       "3411   Traveling to have a business meeting takes the...  Non Abusive\n",
       "3412                      test successful.  way to go!!!  Non Abusive\n",
       "3413   Randy,\\n\\n Can you send me a schedule of the s...  Non Abusive\n",
       "3414                 Let's shoot for Tuesday at 11:45.    Non Abusive\n",
       "...                                                  ...          ...\n",
       "47974   Do you need new leads for your business ?\\n D...  Non Abusive\n",
       "47975  [IMAGE]\\n  [IMAGE]     [IMAGE] GARTH BROOKS  \"...  Non Abusive\n",
       "47977  \\n[IMAGE][IMAGE][IMAGE] \\nDear SmartReminders ...  Non Abusive\n",
       "47980  \\n[IMAGE]\\n  [IMAGE]   [IMAGE]    [IMAGE] KID ...  Non Abusive\n",
       "47981  \\nYou received this e-mail because you registe...  Non Abusive\n",
       "\n",
       "[23014 rows x 2 columns]"
      ]
     },
     "execution_count": 15,
     "metadata": {},
     "output_type": "execute_result"
    }
   ],
   "source": [
    "non_abusive=non_abusive.drop_duplicates()\n",
    "non_abusive\n"
   ]
  },
  {
   "cell_type": "code",
   "execution_count": 16,
   "id": "70351982",
   "metadata": {},
   "outputs": [
    {
     "data": {
      "text/html": [
       "<div>\n",
       "<style scoped>\n",
       "    .dataframe tbody tr th:only-of-type {\n",
       "        vertical-align: middle;\n",
       "    }\n",
       "\n",
       "    .dataframe tbody tr th {\n",
       "        vertical-align: top;\n",
       "    }\n",
       "\n",
       "    .dataframe thead th {\n",
       "        text-align: right;\n",
       "    }\n",
       "</style>\n",
       "<table border=\"1\" class=\"dataframe\">\n",
       "  <thead>\n",
       "    <tr style=\"text-align: right;\">\n",
       "      <th></th>\n",
       "      <th>content</th>\n",
       "      <th>Class</th>\n",
       "    </tr>\n",
       "  </thead>\n",
       "  <tbody>\n",
       "    <tr>\n",
       "      <th>0</th>\n",
       "      <td>eat shit\\n\\n\\n\\n\\nJohn J Lavorato@excelr\\n11/1...</td>\n",
       "      <td>Abusive</td>\n",
       "    </tr>\n",
       "    <tr>\n",
       "      <th>1</th>\n",
       "      <td>fuck you</td>\n",
       "      <td>Abusive</td>\n",
       "    </tr>\n",
       "    <tr>\n",
       "      <th>2</th>\n",
       "      <td>Gentlemen:\\nThe following champagne is availab...</td>\n",
       "      <td>Abusive</td>\n",
       "    </tr>\n",
       "    <tr>\n",
       "      <th>3</th>\n",
       "      <td>sorry i've taken so long...just been trying to...</td>\n",
       "      <td>Abusive</td>\n",
       "    </tr>\n",
       "    <tr>\n",
       "      <th>4</th>\n",
       "      <td>asshole\\n\\n\\n\\n\\nJohn J Lavorato@excelr\\n12/23...</td>\n",
       "      <td>Abusive</td>\n",
       "    </tr>\n",
       "    <tr>\n",
       "      <th>...</th>\n",
       "      <td>...</td>\n",
       "      <td>...</td>\n",
       "    </tr>\n",
       "    <tr>\n",
       "      <th>26419</th>\n",
       "      <td>Do you need new leads for your business ?\\n D...</td>\n",
       "      <td>Non Abusive</td>\n",
       "    </tr>\n",
       "    <tr>\n",
       "      <th>26420</th>\n",
       "      <td>[IMAGE]\\n  [IMAGE]     [IMAGE] GARTH BROOKS  \"...</td>\n",
       "      <td>Non Abusive</td>\n",
       "    </tr>\n",
       "    <tr>\n",
       "      <th>26421</th>\n",
       "      <td>\\n[IMAGE][IMAGE][IMAGE] \\nDear SmartReminders ...</td>\n",
       "      <td>Non Abusive</td>\n",
       "    </tr>\n",
       "    <tr>\n",
       "      <th>26422</th>\n",
       "      <td>\\n[IMAGE]\\n  [IMAGE]   [IMAGE]    [IMAGE] KID ...</td>\n",
       "      <td>Non Abusive</td>\n",
       "    </tr>\n",
       "    <tr>\n",
       "      <th>26423</th>\n",
       "      <td>\\nYou received this e-mail because you registe...</td>\n",
       "      <td>Non Abusive</td>\n",
       "    </tr>\n",
       "  </tbody>\n",
       "</table>\n",
       "<p>26424 rows × 2 columns</p>\n",
       "</div>"
      ],
      "text/plain": [
       "                                                 content        Class\n",
       "0      eat shit\\n\\n\\n\\n\\nJohn J Lavorato@excelr\\n11/1...      Abusive\n",
       "1                                               fuck you      Abusive\n",
       "2      Gentlemen:\\nThe following champagne is availab...      Abusive\n",
       "3      sorry i've taken so long...just been trying to...      Abusive\n",
       "4      asshole\\n\\n\\n\\n\\nJohn J Lavorato@excelr\\n12/23...      Abusive\n",
       "...                                                  ...          ...\n",
       "26419   Do you need new leads for your business ?\\n D...  Non Abusive\n",
       "26420  [IMAGE]\\n  [IMAGE]     [IMAGE] GARTH BROOKS  \"...  Non Abusive\n",
       "26421  \\n[IMAGE][IMAGE][IMAGE] \\nDear SmartReminders ...  Non Abusive\n",
       "26422  \\n[IMAGE]\\n  [IMAGE]   [IMAGE]    [IMAGE] KID ...  Non Abusive\n",
       "26423  \\nYou received this e-mail because you registe...  Non Abusive\n",
       "\n",
       "[26424 rows x 2 columns]"
      ]
     },
     "execution_count": 16,
     "metadata": {},
     "output_type": "execute_result"
    }
   ],
   "source": [
    "em=pd.concat([abusive,non_abusive]).reset_index(drop=True)\n",
    "em"
   ]
  },
  {
   "cell_type": "markdown",
   "id": "8d1f52ce",
   "metadata": {},
   "source": [
    "# Null value check"
   ]
  },
  {
   "cell_type": "code",
   "execution_count": 17,
   "id": "b364bd11",
   "metadata": {},
   "outputs": [
    {
     "data": {
      "text/plain": [
       "content    0\n",
       "Class      0\n",
       "dtype: int64"
      ]
     },
     "execution_count": 17,
     "metadata": {},
     "output_type": "execute_result"
    }
   ],
   "source": [
    "em.isna().sum()"
   ]
  },
  {
   "cell_type": "markdown",
   "id": "9b8415b9",
   "metadata": {},
   "source": [
    "# .dtypes"
   ]
  },
  {
   "cell_type": "code",
   "execution_count": 18,
   "id": "5ae1b298",
   "metadata": {},
   "outputs": [
    {
     "data": {
      "text/plain": [
       "content    object\n",
       "Class      object\n",
       "dtype: object"
      ]
     },
     "execution_count": 18,
     "metadata": {},
     "output_type": "execute_result"
    }
   ],
   "source": [
    "em.dtypes"
   ]
  },
  {
   "cell_type": "code",
   "execution_count": 19,
   "id": "f43e3b64",
   "metadata": {},
   "outputs": [
    {
     "data": {
      "text/plain": [
       "Class\n",
       "Non Abusive    23014\n",
       "Abusive         3410\n",
       "Name: count, dtype: int64"
      ]
     },
     "execution_count": 19,
     "metadata": {},
     "output_type": "execute_result"
    }
   ],
   "source": [
    "em.Class.value_counts()"
   ]
  },
  {
   "cell_type": "code",
   "execution_count": 20,
   "id": "c3d776b9",
   "metadata": {},
   "outputs": [
    {
     "data": {
      "image/png": "[encoded data removed]",
      "text/plain": [
       "<Figure size 1000x500 with 1 Axes>"
      ]
     },
     "metadata": {},
     "output_type": "display_data"
    }
   ],
   "source": [
    "em['Class'].value_counts().plot(kind='pie',autopct='%1.0f%%',figsize=(10,5))\n",
    "plt.show()"
   ]
  },
  {
   "cell_type": "markdown",
   "id": "09c2482f",
   "metadata": {},
   "source": [
    "# Feature Analysis"
   ]
  },
  {
   "cell_type": "code",
   "execution_count": 21,
   "id": "cf561704",
   "metadata": {},
   "outputs": [
    {
     "data": {
      "text/plain": [
       "Class\n",
       "Non Abusive    23014\n",
       "Abusive         3410\n",
       "Name: count, dtype: int64"
      ]
     },
     "execution_count": 21,
     "metadata": {},
     "output_type": "execute_result"
    }
   ],
   "source": [
    "em['Class'].value_counts()"
   ]
  },
  {
   "cell_type": "code",
   "execution_count": 22,
   "id": "f44211c4",
   "metadata": {},
   "outputs": [
    {
     "data": {
      "text/plain": [
       "Class\n",
       "Non Abusive    0.870951\n",
       "Abusive        0.129049\n",
       "Name: proportion, dtype: float64"
      ]
     },
     "execution_count": 22,
     "metadata": {},
     "output_type": "execute_result"
    }
   ],
   "source": [
    "#Percentage counts\n",
    "em.Class.value_counts(normalize=True)"
   ]
  },
  {
   "cell_type": "code",
   "execution_count": 23,
   "id": "2406f9d5",
   "metadata": {},
   "outputs": [
    {
     "data": {
      "text/html": [
       "<div>\n",
       "<style scoped>\n",
       "    .dataframe tbody tr th:only-of-type {\n",
       "        vertical-align: middle;\n",
       "    }\n",
       "\n",
       "    .dataframe tbody tr th {\n",
       "        vertical-align: top;\n",
       "    }\n",
       "\n",
       "    .dataframe thead th {\n",
       "        text-align: right;\n",
       "    }\n",
       "</style>\n",
       "<table border=\"1\" class=\"dataframe\">\n",
       "  <thead>\n",
       "    <tr style=\"text-align: right;\">\n",
       "      <th></th>\n",
       "      <th>content</th>\n",
       "      <th>Class</th>\n",
       "      <th>label</th>\n",
       "    </tr>\n",
       "  </thead>\n",
       "  <tbody>\n",
       "    <tr>\n",
       "      <th>0</th>\n",
       "      <td>eat shit\\n\\n\\n\\n\\nJohn J Lavorato@excelr\\n11/1...</td>\n",
       "      <td>Abusive</td>\n",
       "      <td>1</td>\n",
       "    </tr>\n",
       "    <tr>\n",
       "      <th>1</th>\n",
       "      <td>fuck you</td>\n",
       "      <td>Abusive</td>\n",
       "      <td>1</td>\n",
       "    </tr>\n",
       "    <tr>\n",
       "      <th>2</th>\n",
       "      <td>Gentlemen:\\nThe following champagne is availab...</td>\n",
       "      <td>Abusive</td>\n",
       "      <td>1</td>\n",
       "    </tr>\n",
       "    <tr>\n",
       "      <th>3</th>\n",
       "      <td>sorry i've taken so long...just been trying to...</td>\n",
       "      <td>Abusive</td>\n",
       "      <td>1</td>\n",
       "    </tr>\n",
       "    <tr>\n",
       "      <th>4</th>\n",
       "      <td>asshole\\n\\n\\n\\n\\nJohn J Lavorato@excelr\\n12/23...</td>\n",
       "      <td>Abusive</td>\n",
       "      <td>1</td>\n",
       "    </tr>\n",
       "    <tr>\n",
       "      <th>...</th>\n",
       "      <td>...</td>\n",
       "      <td>...</td>\n",
       "      <td>...</td>\n",
       "    </tr>\n",
       "    <tr>\n",
       "      <th>26419</th>\n",
       "      <td>Do you need new leads for your business ?\\n D...</td>\n",
       "      <td>Non Abusive</td>\n",
       "      <td>0</td>\n",
       "    </tr>\n",
       "    <tr>\n",
       "      <th>26420</th>\n",
       "      <td>[IMAGE]\\n  [IMAGE]     [IMAGE] GARTH BROOKS  \"...</td>\n",
       "      <td>Non Abusive</td>\n",
       "      <td>0</td>\n",
       "    </tr>\n",
       "    <tr>\n",
       "      <th>26421</th>\n",
       "      <td>\\n[IMAGE][IMAGE][IMAGE] \\nDear SmartReminders ...</td>\n",
       "      <td>Non Abusive</td>\n",
       "      <td>0</td>\n",
       "    </tr>\n",
       "    <tr>\n",
       "      <th>26422</th>\n",
       "      <td>\\n[IMAGE]\\n  [IMAGE]   [IMAGE]    [IMAGE] KID ...</td>\n",
       "      <td>Non Abusive</td>\n",
       "      <td>0</td>\n",
       "    </tr>\n",
       "    <tr>\n",
       "      <th>26423</th>\n",
       "      <td>\\nYou received this e-mail because you registe...</td>\n",
       "      <td>Non Abusive</td>\n",
       "      <td>0</td>\n",
       "    </tr>\n",
       "  </tbody>\n",
       "</table>\n",
       "<p>26424 rows × 3 columns</p>\n",
       "</div>"
      ],
      "text/plain": [
       "                                                 content        Class  label\n",
       "0      eat shit\\n\\n\\n\\n\\nJohn J Lavorato@excelr\\n11/1...      Abusive      1\n",
       "1                                               fuck you      Abusive      1\n",
       "2      Gentlemen:\\nThe following champagne is availab...      Abusive      1\n",
       "3      sorry i've taken so long...just been trying to...      Abusive      1\n",
       "4      asshole\\n\\n\\n\\n\\nJohn J Lavorato@excelr\\n12/23...      Abusive      1\n",
       "...                                                  ...          ...    ...\n",
       "26419   Do you need new leads for your business ?\\n D...  Non Abusive      0\n",
       "26420  [IMAGE]\\n  [IMAGE]     [IMAGE] GARTH BROOKS  \"...  Non Abusive      0\n",
       "26421  \\n[IMAGE][IMAGE][IMAGE] \\nDear SmartReminders ...  Non Abusive      0\n",
       "26422  \\n[IMAGE]\\n  [IMAGE]   [IMAGE]    [IMAGE] KID ...  Non Abusive      0\n",
       "26423  \\nYou received this e-mail because you registe...  Non Abusive      0\n",
       "\n",
       "[26424 rows x 3 columns]"
      ]
     },
     "execution_count": 23,
     "metadata": {},
     "output_type": "execute_result"
    }
   ],
   "source": [
    "#Convert spam to 1 and ham to 0\n",
    "em['label'] = em['Class'].map({'Non Abusive':0,'Abusive':1})\n",
    "em"
   ]
  },
  {
   "cell_type": "code",
   "execution_count": 24,
   "id": "58d7f417",
   "metadata": {},
   "outputs": [
    {
     "data": {
      "text/html": [
       "<div>\n",
       "<style scoped>\n",
       "    .dataframe tbody tr th:only-of-type {\n",
       "        vertical-align: middle;\n",
       "    }\n",
       "\n",
       "    .dataframe tbody tr th {\n",
       "        vertical-align: top;\n",
       "    }\n",
       "\n",
       "    .dataframe thead th {\n",
       "        text-align: right;\n",
       "    }\n",
       "</style>\n",
       "<table border=\"1\" class=\"dataframe\">\n",
       "  <thead>\n",
       "    <tr style=\"text-align: right;\">\n",
       "      <th></th>\n",
       "      <th>content</th>\n",
       "      <th>Class</th>\n",
       "      <th>label</th>\n",
       "      <th>length</th>\n",
       "    </tr>\n",
       "  </thead>\n",
       "  <tbody>\n",
       "    <tr>\n",
       "      <th>0</th>\n",
       "      <td>eat shit\\n\\n\\n\\n\\nJohn J Lavorato@excelr\\n11/1...</td>\n",
       "      <td>Abusive</td>\n",
       "      <td>1</td>\n",
       "      <td>220</td>\n",
       "    </tr>\n",
       "    <tr>\n",
       "      <th>1</th>\n",
       "      <td>fuck you</td>\n",
       "      <td>Abusive</td>\n",
       "      <td>1</td>\n",
       "      <td>8</td>\n",
       "    </tr>\n",
       "    <tr>\n",
       "      <th>2</th>\n",
       "      <td>Gentlemen:\\nThe following champagne is availab...</td>\n",
       "      <td>Abusive</td>\n",
       "      <td>1</td>\n",
       "      <td>612</td>\n",
       "    </tr>\n",
       "    <tr>\n",
       "      <th>3</th>\n",
       "      <td>sorry i've taken so long...just been trying to...</td>\n",
       "      <td>Abusive</td>\n",
       "      <td>1</td>\n",
       "      <td>505</td>\n",
       "    </tr>\n",
       "    <tr>\n",
       "      <th>4</th>\n",
       "      <td>asshole\\n\\n\\n\\n\\nJohn J Lavorato@excelr\\n12/23...</td>\n",
       "      <td>Abusive</td>\n",
       "      <td>1</td>\n",
       "      <td>203</td>\n",
       "    </tr>\n",
       "    <tr>\n",
       "      <th>...</th>\n",
       "      <td>...</td>\n",
       "      <td>...</td>\n",
       "      <td>...</td>\n",
       "      <td>...</td>\n",
       "    </tr>\n",
       "    <tr>\n",
       "      <th>26419</th>\n",
       "      <td>Do you need new leads for your business ?\\n D...</td>\n",
       "      <td>Non Abusive</td>\n",
       "      <td>0</td>\n",
       "      <td>1523</td>\n",
       "    </tr>\n",
       "    <tr>\n",
       "      <th>26420</th>\n",
       "      <td>[IMAGE]\\n  [IMAGE]     [IMAGE] GARTH BROOKS  \"...</td>\n",
       "      <td>Non Abusive</td>\n",
       "      <td>0</td>\n",
       "      <td>1126</td>\n",
       "    </tr>\n",
       "    <tr>\n",
       "      <th>26421</th>\n",
       "      <td>\\n[IMAGE][IMAGE][IMAGE] \\nDear SmartReminders ...</td>\n",
       "      <td>Non Abusive</td>\n",
       "      <td>0</td>\n",
       "      <td>892</td>\n",
       "    </tr>\n",
       "    <tr>\n",
       "      <th>26422</th>\n",
       "      <td>\\n[IMAGE]\\n  [IMAGE]   [IMAGE]    [IMAGE] KID ...</td>\n",
       "      <td>Non Abusive</td>\n",
       "      <td>0</td>\n",
       "      <td>932</td>\n",
       "    </tr>\n",
       "    <tr>\n",
       "      <th>26423</th>\n",
       "      <td>\\nYou received this e-mail because you registe...</td>\n",
       "      <td>Non Abusive</td>\n",
       "      <td>0</td>\n",
       "      <td>4289</td>\n",
       "    </tr>\n",
       "  </tbody>\n",
       "</table>\n",
       "<p>26424 rows × 4 columns</p>\n",
       "</div>"
      ],
      "text/plain": [
       "                                                 content        Class  label  \\\n",
       "0      eat shit\\n\\n\\n\\n\\nJohn J Lavorato@excelr\\n11/1...      Abusive      1   \n",
       "1                                               fuck you      Abusive      1   \n",
       "2      Gentlemen:\\nThe following champagne is availab...      Abusive      1   \n",
       "3      sorry i've taken so long...just been trying to...      Abusive      1   \n",
       "4      asshole\\n\\n\\n\\n\\nJohn J Lavorato@excelr\\n12/23...      Abusive      1   \n",
       "...                                                  ...          ...    ...   \n",
       "26419   Do you need new leads for your business ?\\n D...  Non Abusive      0   \n",
       "26420  [IMAGE]\\n  [IMAGE]     [IMAGE] GARTH BROOKS  \"...  Non Abusive      0   \n",
       "26421  \\n[IMAGE][IMAGE][IMAGE] \\nDear SmartReminders ...  Non Abusive      0   \n",
       "26422  \\n[IMAGE]\\n  [IMAGE]   [IMAGE]    [IMAGE] KID ...  Non Abusive      0   \n",
       "26423  \\nYou received this e-mail because you registe...  Non Abusive      0   \n",
       "\n",
       "       length  \n",
       "0         220  \n",
       "1           8  \n",
       "2         612  \n",
       "3         505  \n",
       "4         203  \n",
       "...       ...  \n",
       "26419    1523  \n",
       "26420    1126  \n",
       "26421     892  \n",
       "26422     932  \n",
       "26423    4289  \n",
       "\n",
       "[26424 rows x 4 columns]"
      ]
     },
     "execution_count": 24,
     "metadata": {},
     "output_type": "execute_result"
    }
   ],
   "source": [
    "#Length\n",
    "em['length'] = em['content'].apply(len)\n",
    "em"
   ]
  },
  {
   "cell_type": "code",
   "execution_count": 25,
   "id": "b5650cd8",
   "metadata": {},
   "outputs": [
    {
     "data": {
      "text/plain": [
       "array([<Axes: title={'center': 'Abusive'}>,\n",
       "       <Axes: title={'center': 'Non Abusive'}>], dtype=object)"
      ]
     },
     "execution_count": 25,
     "metadata": {},
     "output_type": "execute_result"
    },
    {
     "data": {
      "image/png": "[encoded data removed]",
      "text/plain": [
       "<Figure size 640x480 with 2 Axes>"
      ]
     },
     "metadata": {},
     "output_type": "display_data"
    }
   ],
   "source": [
    "em.hist(column='length',by = 'Class')"
   ]
  },
  {
   "cell_type": "code",
   "execution_count": 26,
   "id": "627688ab",
   "metadata": {},
   "outputs": [
    {
     "data": {
      "text/plain": [
       "10714"
      ]
     },
     "execution_count": 26,
     "metadata": {},
     "output_type": "execute_result"
    }
   ],
   "source": [
    "text_len=[len(x) for x in em.content]\n",
    "outlier = [y for y in text_len if y > 1000]\n",
    "len(outlier)"
   ]
  },
  {
   "cell_type": "code",
   "execution_count": 27,
   "id": "edf88cfe",
   "metadata": {},
   "outputs": [],
   "source": [
    "em.length = em.content.apply(lambda x : len(x))"
   ]
  },
  {
   "cell_type": "code",
   "execution_count": 28,
   "id": "3886897e",
   "metadata": {},
   "outputs": [
    {
     "data": {
      "text/plain": [
       "<Axes: xlabel='length', ylabel='Count'>"
      ]
     },
     "execution_count": 28,
     "metadata": {},
     "output_type": "execute_result"
    },
    {
     "data": {
      "image/png": "[encoded data removed]",
      "text/plain": [
       "<Figure size 640x480 with 1 Axes>"
      ]
     },
     "metadata": {},
     "output_type": "display_data"
    }
   ],
   "source": [
    "sns.histplot(em.length, color='deeppink')"
   ]
  },
  {
   "cell_type": "markdown",
   "id": "2ccd779a",
   "metadata": {},
   "source": [
    "There are huge outliers which we need to remove. We will remove the outliers after preprocessing"
   ]
  },
  {
   "cell_type": "markdown",
   "id": "10a144e0",
   "metadata": {},
   "source": [
    "# Data Cleaning"
   ]
  },
  {
   "cell_type": "code",
   "execution_count": 20,
   "id": "f31c3d1d",
   "metadata": {},
   "outputs": [],
   "source": [
    "# Lemmatization"
   ]
  },
  {
   "cell_type": "code",
   "execution_count": 21,
   "id": "2ec27db8",
   "metadata": {},
   "outputs": [
    {
     "data": {
      "text/html": [
       "<div>\n",
       "<style scoped>\n",
       "    .dataframe tbody tr th:only-of-type {\n",
       "        vertical-align: middle;\n",
       "    }\n",
       "\n",
       "    .dataframe tbody tr th {\n",
       "        vertical-align: top;\n",
       "    }\n",
       "\n",
       "    .dataframe thead th {\n",
       "        text-align: right;\n",
       "    }\n",
       "</style>\n",
       "<table border=\"1\" class=\"dataframe\">\n",
       "  <thead>\n",
       "    <tr style=\"text-align: right;\">\n",
       "      <th></th>\n",
       "      <th>content</th>\n",
       "      <th>Class</th>\n",
       "    </tr>\n",
       "  </thead>\n",
       "  <tbody>\n",
       "    <tr>\n",
       "      <th>0</th>\n",
       "      <td>eat shit\\n\\n\\n\\n\\nJohn J Lavorato@excelr\\n11/1...</td>\n",
       "      <td>Abusive</td>\n",
       "    </tr>\n",
       "    <tr>\n",
       "      <th>1</th>\n",
       "      <td>fuck you</td>\n",
       "      <td>Abusive</td>\n",
       "    </tr>\n",
       "    <tr>\n",
       "      <th>2</th>\n",
       "      <td>Gentlemen:\\nThe following champagne is availab...</td>\n",
       "      <td>Abusive</td>\n",
       "    </tr>\n",
       "    <tr>\n",
       "      <th>3</th>\n",
       "      <td>sorry i've taken so long...just been trying to...</td>\n",
       "      <td>Abusive</td>\n",
       "    </tr>\n",
       "    <tr>\n",
       "      <th>4</th>\n",
       "      <td>asshole\\n\\n\\n\\n\\nJohn J Lavorato@excelr\\n12/23...</td>\n",
       "      <td>Abusive</td>\n",
       "    </tr>\n",
       "  </tbody>\n",
       "</table>\n",
       "</div>"
      ],
      "text/plain": [
       "                                             content    Class\n",
       "0  eat shit\\n\\n\\n\\n\\nJohn J Lavorato@excelr\\n11/1...  Abusive\n",
       "1                                           fuck you  Abusive\n",
       "2  Gentlemen:\\nThe following champagne is availab...  Abusive\n",
       "3  sorry i've taken so long...just been trying to...  Abusive\n",
       "4  asshole\\n\\n\\n\\n\\nJohn J Lavorato@excelr\\n12/23...  Abusive"
      ]
     },
     "execution_count": 21,
     "metadata": {},
     "output_type": "execute_result"
    }
   ],
   "source": [
    "df = em.copy()\n",
    "df.head()"
   ]
  },
  {
   "cell_type": "code",
   "execution_count": 22,
   "id": "2595628f",
   "metadata": {},
   "outputs": [
    {
     "data": {
      "text/plain": [
       "0    eat shit\\n\\n\\n\\n\\nJohn J Lavorato@excelr\\n11/1...\n",
       "1                                             fuck you\n",
       "2    Gentlemen:\\nThe following champagne is availab...\n",
       "3    sorry i've taken so long...just been trying to...\n",
       "4    asshole\\n\\n\\n\\n\\nJohn J Lavorato@excelr\\n12/23...\n",
       "Name: content, dtype: object"
      ]
     },
     "execution_count": 22,
     "metadata": {},
     "output_type": "execute_result"
    }
   ],
   "source": [
    "#Before cleaning\n",
    "df.content.head()"
   ]
  },
  {
   "cell_type": "code",
   "execution_count": 23,
   "id": "3d5346b6",
   "metadata": {},
   "outputs": [
    {
     "data": {
      "text/plain": [
       "0        eat shit     john j lavorato excelr           ...\n",
       "1                                                 fuck you\n",
       "2        gentlemen  the following champagne is availabl...\n",
       "3        sorry i ve taken so long   just been trying to...\n",
       "4        asshole     john j lavorato excelr           a...\n",
       "                               ...                        \n",
       "26419     do you need new leads for your business    do...\n",
       "26420                garth brooks   wrapped up in you  ...\n",
       "26421          dear smartreminders member             f...\n",
       "26422                    kid rock   forever         off...\n",
       "26423     you received this e mail because you register...\n",
       "Name: content, Length: 26424, dtype: object"
      ]
     },
     "execution_count": 23,
     "metadata": {},
     "output_type": "execute_result"
    }
   ],
   "source": [
    "# Clean The Data using RegEx\n",
    "import re # regular expression\n",
    "import string\n",
    "\n",
    "def clean_text(text):\n",
    "    '''Make text lowercase, remove text in square brackets, remove punctuation and remove words containing numbers.'''\n",
    "    text=text.lower()\n",
    "    text=re.sub('\\[.*?\\]',' ',text)\n",
    "    text=re.sub('[%s]'% re.escape(string.punctuation),' ',text)\n",
    "    text=re.sub('\\w*\\d\\w*',' ',text)\n",
    "    text=re.sub('[0-9' ']+',' ',text)\n",
    "    text=re.sub('[''\"\"…]', ' ', text)\n",
    "    text=re.sub('[\\n]', ' ', text)\n",
    "    text=re.sub('[\\s]', ' ', text)\n",
    "    return text\n",
    "clean = lambda x: clean_text(x)\n",
    "\n",
    "em['content'] = em.content.apply(clean)\n",
    "em.content"
   ]
  },
  {
   "cell_type": "code",
   "execution_count": 24,
   "id": "03cd3fcc",
   "metadata": {},
   "outputs": [
    {
     "data": {
      "text/plain": [
       "the       244859\n",
       "to        180830\n",
       "and       118908\n",
       "a         109068\n",
       "of         99291\n",
       "in         77875\n",
       "you        70100\n",
       "for        69188\n",
       "excelr     69167\n",
       "i          68157\n",
       "com        67959\n",
       "on         57810\n",
       "is         56023\n",
       "s          53946\n",
       "that       47227\n",
       "this       44753\n",
       "ect        41268\n",
       "from       40770\n",
       "be         38636\n",
       "with       36816\n",
       "Name: count, dtype: int64"
      ]
     },
     "execution_count": 24,
     "metadata": {},
     "output_type": "execute_result"
    }
   ],
   "source": [
    "#Word frequency\n",
    "freq = pd.Series(' '.join(em['content']).split()).value_counts()[:20] # for top 20\n",
    "freq"
   ]
  },
  {
   "cell_type": "code",
   "execution_count": 25,
   "id": "b68c4b0e",
   "metadata": {},
   "outputs": [
    {
     "name": "stderr",
     "output_type": "stream",
     "text": [
      "[nltk_data] Downloading package stopwords to\n",
      "[nltk_data]     C:\\Users\\DELL\\AppData\\Roaming\\nltk_data...\n",
      "[nltk_data]   Package stopwords is already up-to-date!\n"
     ]
    }
   ],
   "source": [
    "nltk.download('stopwords')\n",
    "from nltk.corpus import stopwords\n",
    "stop = stopwords.words('english')\n",
    "em['content'] = em['content'].apply(lambda x: \" \".join(x for x in x.split() if x not in stop))"
   ]
  },
  {
   "cell_type": "code",
   "execution_count": 26,
   "id": "7148f4ed",
   "metadata": {},
   "outputs": [
    {
     "data": {
      "text/plain": [
       "0        eat shit john j lavorato excelr pm john arnold...\n",
       "1                                                     fuck\n",
       "2        gentlemen following champagne available approx...\n",
       "3        sorry taken long trying fend chicks life soooo...\n",
       "4        asshole john j lavorato excelr john arnold hou...\n",
       "                               ...                        \n",
       "26419    need new leads business need increased interne...\n",
       "26420    garth brooks wrapped win tickets trip garth br...\n",
       "26421    dear smartreminders member franchoice free one...\n",
       "26422    kid rock forever official kid rock site www ki...\n",
       "26423    received e mail registered e trade web site on...\n",
       "Name: content, Length: 26424, dtype: object"
      ]
     },
     "execution_count": 26,
     "metadata": {},
     "output_type": "execute_result"
    }
   ],
   "source": [
    "em['content']"
   ]
  },
  {
   "cell_type": "code",
   "execution_count": 27,
   "id": "a7d7ba47",
   "metadata": {},
   "outputs": [
    {
     "data": {
      "text/plain": [
       "excelr     69167\n",
       "com        67959\n",
       "ect        41268\n",
       "http       31523\n",
       "font       28452\n",
       "td         27087\n",
       "hou        20826\n",
       "subject    19455\n",
       "www        18261\n",
       "please     17420\n",
       "e          16668\n",
       "pm         15467\n",
       "time       14027\n",
       "message    13421\n",
       "would      13405\n",
       "b          13122\n",
       "new        13017\n",
       "sent       12033\n",
       "one        12020\n",
       "get        11318\n",
       "Name: count, dtype: int64"
      ]
     },
     "execution_count": 27,
     "metadata": {},
     "output_type": "execute_result"
    }
   ],
   "source": [
    "#word frequency after removal of stopwords\n",
    "freq_Sw = pd.Series(' '.join(em['content']).split()).value_counts()[:20] # for top 20\n",
    "freq_Sw"
   ]
  },
  {
   "cell_type": "markdown",
   "id": "b53ab565",
   "metadata": {},
   "source": [
    "# Advanced Feature Analysis"
   ]
  },
  {
   "cell_type": "code",
   "execution_count": 37,
   "id": "20ad2224",
   "metadata": {},
   "outputs": [
    {
     "name": "stderr",
     "output_type": "stream",
     "text": [
      "[nltk_data] Downloading package vader_lexicon to\n",
      "[nltk_data]     C:\\Users\\DELL\\AppData\\Roaming\\nltk_data...\n",
      "[nltk_data]   Package vader_lexicon is already up-to-date!\n"
     ]
    },
    {
     "data": {
      "text/plain": [
       "True"
      ]
     },
     "execution_count": 37,
     "metadata": {},
     "output_type": "execute_result"
    }
   ],
   "source": [
    "from nltk.sentiment.vader import SentimentIntensityAnalyzer\n",
    "from vaderSentiment.vaderSentiment import SentimentIntensityAnalyzer\n",
    "import nltk\n",
    "nltk.downloader.download('vader_lexicon')"
   ]
  },
  {
   "cell_type": "code",
   "execution_count": 38,
   "id": "32189a45",
   "metadata": {},
   "outputs": [
    {
     "data": {
      "text/html": [
       "<div>\n",
       "<style scoped>\n",
       "    .dataframe tbody tr th:only-of-type {\n",
       "        vertical-align: middle;\n",
       "    }\n",
       "\n",
       "    .dataframe tbody tr th {\n",
       "        vertical-align: top;\n",
       "    }\n",
       "\n",
       "    .dataframe thead th {\n",
       "        text-align: right;\n",
       "    }\n",
       "</style>\n",
       "<table border=\"1\" class=\"dataframe\">\n",
       "  <thead>\n",
       "    <tr style=\"text-align: right;\">\n",
       "      <th></th>\n",
       "      <th>content</th>\n",
       "      <th>Class</th>\n",
       "      <th>label</th>\n",
       "      <th>length</th>\n",
       "      <th>Vader Sentiment</th>\n",
       "      <th>Vader Analysis</th>\n",
       "    </tr>\n",
       "  </thead>\n",
       "  <tbody>\n",
       "    <tr>\n",
       "      <th>0</th>\n",
       "      <td>eat shit john j lavorato excelr pm john arnold...</td>\n",
       "      <td>Abusive</td>\n",
       "      <td>1</td>\n",
       "      <td>220</td>\n",
       "      <td>-0.5574</td>\n",
       "      <td>Negative</td>\n",
       "    </tr>\n",
       "    <tr>\n",
       "      <th>1</th>\n",
       "      <td>fuck</td>\n",
       "      <td>Abusive</td>\n",
       "      <td>1</td>\n",
       "      <td>8</td>\n",
       "      <td>-0.5423</td>\n",
       "      <td>Negative</td>\n",
       "    </tr>\n",
       "    <tr>\n",
       "      <th>2</th>\n",
       "      <td>gentlemen following champagne available approx...</td>\n",
       "      <td>Abusive</td>\n",
       "      <td>1</td>\n",
       "      <td>612</td>\n",
       "      <td>0.8555</td>\n",
       "      <td>Positive</td>\n",
       "    </tr>\n",
       "    <tr>\n",
       "      <th>3</th>\n",
       "      <td>sorry taken long trying fend chicks life soooo...</td>\n",
       "      <td>Abusive</td>\n",
       "      <td>1</td>\n",
       "      <td>505</td>\n",
       "      <td>-0.2567</td>\n",
       "      <td>Neutral</td>\n",
       "    </tr>\n",
       "    <tr>\n",
       "      <th>4</th>\n",
       "      <td>asshole john j lavorato excelr john arnold hou...</td>\n",
       "      <td>Abusive</td>\n",
       "      <td>1</td>\n",
       "      <td>203</td>\n",
       "      <td>-0.4019</td>\n",
       "      <td>Neutral</td>\n",
       "    </tr>\n",
       "  </tbody>\n",
       "</table>\n",
       "</div>"
      ],
      "text/plain": [
       "                                             content    Class  label  length  \\\n",
       "0  eat shit john j lavorato excelr pm john arnold...  Abusive      1     220   \n",
       "1                                               fuck  Abusive      1       8   \n",
       "2  gentlemen following champagne available approx...  Abusive      1     612   \n",
       "3  sorry taken long trying fend chicks life soooo...  Abusive      1     505   \n",
       "4  asshole john j lavorato excelr john arnold hou...  Abusive      1     203   \n",
       "\n",
       "   Vader Sentiment Vader Analysis  \n",
       "0          -0.5574       Negative  \n",
       "1          -0.5423       Negative  \n",
       "2           0.8555       Positive  \n",
       "3          -0.2567        Neutral  \n",
       "4          -0.4019        Neutral  "
      ]
     },
     "execution_count": 38,
     "metadata": {},
     "output_type": "execute_result"
    }
   ],
   "source": [
    "# import the SentimentIntensityAnalyzer class\n",
    "from nltk.sentiment.vader import SentimentIntensityAnalyzer\n",
    "\n",
    "# create an instance of the class\n",
    "analyzer = SentimentIntensityAnalyzer()\n",
    "\n",
    "# function to calculate vader sentiment\n",
    "def vadersentimentanalysis(Content):\n",
    "    # get the polarity scores for the content\n",
    "    vs = analyzer.polarity_scores(Content)\n",
    "    # return the compound score\n",
    "    return vs['compound']\n",
    "\n",
    "# apply the vadersentimentanalysis function to the Lemma column of em dataframe\n",
    "em['Vader Sentiment'] = em['content'].apply(vadersentimentanalysis)\n",
    "\n",
    "# function to analyse\n",
    "def vader_analysis(compound):\n",
    "    if compound >= 0.5:\n",
    "        return 'Positive'\n",
    "    elif compound <= -0.5 :\n",
    "        return 'Negative'\n",
    "    else:\n",
    "        return 'Neutral'\n",
    "\n",
    "# apply the vader_analysis function to the Vader Sentiment column of em dataframe\n",
    "em['Vader Analysis'] = em['Vader Sentiment'].apply(vader_analysis)\n",
    "\n",
    "# display the first five rows of em dataframe\n",
    "em.head()\n"
   ]
  },
  {
   "cell_type": "code",
   "execution_count": 39,
   "id": "8c091758",
   "metadata": {},
   "outputs": [
    {
     "data": {
      "text/plain": [
       "Vader Analysis\n",
       "Positive    17014\n",
       "Neutral      7591\n",
       "Negative     1819\n",
       "Name: count, dtype: int64"
      ]
     },
     "execution_count": 39,
     "metadata": {},
     "output_type": "execute_result"
    }
   ],
   "source": [
    "vader_counts = em['Vader Analysis'].value_counts()\n",
    "vader_counts"
   ]
  },
  {
   "cell_type": "code",
   "execution_count": 40,
   "id": "8c10aff5",
   "metadata": {},
   "outputs": [
    {
     "data": {
      "text/plain": [
       "([<matplotlib.patches.Wedge at 0x166c7e0bb90>,\n",
       "  <matplotlib.patches.Wedge at 0x166e81bf2d0>,\n",
       "  <matplotlib.patches.Wedge at 0x166ddf053d0>],\n",
       " [Text(-0.48046789088872927, 0.9895203918186509, 'Positive'),\n",
       "  Text(0.2569425769028095, -1.0695702464890018, 'Neutral'),\n",
       "  Text(1.3185530703945976, -0.2896856926963761, 'Negative')],\n",
       " [Text(-0.2620733950302159, 0.5397383955374458, '64.4%'),\n",
       "  Text(0.14015049649244155, -0.5834019526303645, '28.7%'),\n",
       "  Text(0.8302000813595615, -0.182394695401422, '6.9%')])"
      ]
     },
     "execution_count": 40,
     "metadata": {},
     "output_type": "execute_result"
    },
    {
     "data": {
      "image/png": "[encoded data removed]",
      "text/plain": [
       "<Figure size 1500x700 with 1 Axes>"
      ]
     },
     "metadata": {},
     "output_type": "display_data"
    }
   ],
   "source": [
    "plt.figure(figsize=(15,7))\n",
    "plt.title(\"VADER results\")\n",
    "plt.pie(vader_counts.values, labels = vader_counts.index, explode = (0, 0, 0.25), autopct='%1.1f%%', shadow=False)"
   ]
  },
  {
   "cell_type": "markdown",
   "id": "78d8f6b1",
   "metadata": {},
   "source": [
    "#Abusive and Non Abusive data"
   ]
  },
  {
   "cell_type": "code",
   "execution_count": 31,
   "id": "ae239b1e",
   "metadata": {},
   "outputs": [],
   "source": [
    "Abusive = em[em['Class']=='Abusive']\n",
    "NAb = em[em['Class']=='Non Abusive']"
   ]
  },
  {
   "cell_type": "markdown",
   "id": "3ea8a3b3",
   "metadata": {},
   "source": [
    "# Worldcloud function"
   ]
  },
  {
   "cell_type": "code",
   "execution_count": 28,
   "id": "748df232",
   "metadata": {},
   "outputs": [
    {
     "data": {
      "text/html": [
       "<div>\n",
       "<style scoped>\n",
       "    .dataframe tbody tr th:only-of-type {\n",
       "        vertical-align: middle;\n",
       "    }\n",
       "\n",
       "    .dataframe tbody tr th {\n",
       "        vertical-align: top;\n",
       "    }\n",
       "\n",
       "    .dataframe thead th {\n",
       "        text-align: right;\n",
       "    }\n",
       "</style>\n",
       "<table border=\"1\" class=\"dataframe\">\n",
       "  <thead>\n",
       "    <tr style=\"text-align: right;\">\n",
       "      <th></th>\n",
       "      <th>content</th>\n",
       "      <th>Class</th>\n",
       "    </tr>\n",
       "  </thead>\n",
       "  <tbody>\n",
       "    <tr>\n",
       "      <th>0</th>\n",
       "      <td>eat shit john j lavorato excelr pm john arnold...</td>\n",
       "      <td>Abusive</td>\n",
       "    </tr>\n",
       "    <tr>\n",
       "      <th>1</th>\n",
       "      <td>fuck</td>\n",
       "      <td>Abusive</td>\n",
       "    </tr>\n",
       "    <tr>\n",
       "      <th>2</th>\n",
       "      <td>gentlemen following champagne available approx...</td>\n",
       "      <td>Abusive</td>\n",
       "    </tr>\n",
       "    <tr>\n",
       "      <th>3</th>\n",
       "      <td>sorry taken long trying fend chicks life soooo...</td>\n",
       "      <td>Abusive</td>\n",
       "    </tr>\n",
       "    <tr>\n",
       "      <th>4</th>\n",
       "      <td>asshole john j lavorato excelr john arnold hou...</td>\n",
       "      <td>Abusive</td>\n",
       "    </tr>\n",
       "    <tr>\n",
       "      <th>...</th>\n",
       "      <td>...</td>\n",
       "      <td>...</td>\n",
       "    </tr>\n",
       "    <tr>\n",
       "      <th>26419</th>\n",
       "      <td>need new leads business need increased interne...</td>\n",
       "      <td>Non Abusive</td>\n",
       "    </tr>\n",
       "    <tr>\n",
       "      <th>26420</th>\n",
       "      <td>garth brooks wrapped win tickets trip garth br...</td>\n",
       "      <td>Non Abusive</td>\n",
       "    </tr>\n",
       "    <tr>\n",
       "      <th>26421</th>\n",
       "      <td>dear smartreminders member franchoice free one...</td>\n",
       "      <td>Non Abusive</td>\n",
       "    </tr>\n",
       "    <tr>\n",
       "      <th>26422</th>\n",
       "      <td>kid rock forever official kid rock site www ki...</td>\n",
       "      <td>Non Abusive</td>\n",
       "    </tr>\n",
       "    <tr>\n",
       "      <th>26423</th>\n",
       "      <td>received e mail registered e trade web site on...</td>\n",
       "      <td>Non Abusive</td>\n",
       "    </tr>\n",
       "  </tbody>\n",
       "</table>\n",
       "<p>26424 rows × 2 columns</p>\n",
       "</div>"
      ],
      "text/plain": [
       "                                                 content        Class\n",
       "0      eat shit john j lavorato excelr pm john arnold...      Abusive\n",
       "1                                                   fuck      Abusive\n",
       "2      gentlemen following champagne available approx...      Abusive\n",
       "3      sorry taken long trying fend chicks life soooo...      Abusive\n",
       "4      asshole john j lavorato excelr john arnold hou...      Abusive\n",
       "...                                                  ...          ...\n",
       "26419  need new leads business need increased interne...  Non Abusive\n",
       "26420  garth brooks wrapped win tickets trip garth br...  Non Abusive\n",
       "26421  dear smartreminders member franchoice free one...  Non Abusive\n",
       "26422  kid rock forever official kid rock site www ki...  Non Abusive\n",
       "26423  received e mail registered e trade web site on...  Non Abusive\n",
       "\n",
       "[26424 rows x 2 columns]"
      ]
     },
     "execution_count": 28,
     "metadata": {},
     "output_type": "execute_result"
    }
   ],
   "source": [
    "em"
   ]
  },
  {
   "cell_type": "code",
   "execution_count": 32,
   "id": "64e6d1d9",
   "metadata": {},
   "outputs": [],
   "source": [
    "def worldcloud(data,title):\n",
    "    txt = ' '.join(data['content'])\n",
    "    stop = STOPWORDS\n",
    "    \n",
    "    wc = WordCloud(background_color='white',stopwords=stop).generate(txt)\n",
    "    plt.imshow(wc)\n",
    "    plt.axis('off')\n",
    "    plt.title(title,size = 50)"
   ]
  },
  {
   "cell_type": "code",
   "execution_count": 33,
   "id": "94f1e3fc",
   "metadata": {},
   "outputs": [
    {
     "data": {
      "image/png": "[encoded data removed]",
      "text/plain": [
       "<Figure size 640x480 with 1 Axes>"
      ]
     },
     "metadata": {},
     "output_type": "display_data"
    }
   ],
   "source": [
    "worldcloud(Abusive,'Abusive')"
   ]
  },
  {
   "cell_type": "code",
   "execution_count": 34,
   "id": "0f629b70",
   "metadata": {},
   "outputs": [
    {
     "data": {
      "image/png": "[encoded data removed]",
      "text/plain": [
       "<Figure size 640x480 with 1 Axes>"
      ]
     },
     "metadata": {},
     "output_type": "display_data"
    }
   ],
   "source": [
    "worldcloud(NAb,'NON Abusive')"
   ]
  },
  {
   "cell_type": "markdown",
   "id": "db95aba7",
   "metadata": {},
   "source": [
    "# Feature Extraction\n",
    "# 1. count vectoriser (tells the frequency of a word)"
   ]
  },
  {
   "cell_type": "code",
   "execution_count": 46,
   "id": "fc5b551a",
   "metadata": {},
   "outputs": [],
   "source": [
    "# count vectoriser tells the frequency of a word.\n",
    "from sklearn.feature_extraction.text import CountVectorizer\n",
    "from sklearn.feature_extraction.text import TfidfVectorizer"
   ]
  },
  {
   "cell_type": "code",
   "execution_count": 47,
   "id": "b43334b1",
   "metadata": {},
   "outputs": [],
   "source": [
    "from sklearn.feature_extraction.text import CountVectorizer\n",
    "vectorizer=CountVectorizer(min_df=1,max_df=5)  # df = data frequency\n",
    "X=vectorizer.fit_transform(em['content'])\n",
    "word_freq_df=pd.DataFrame({'term':vectorizer.get_feature_names_out(),'occurrences':np.asarray(X.sum(axis=0)).ravel().tolist()})\n",
    "word_freq_df['frequency']=word_freq_df['occurrences']/np.sum(word_freq_df['occurrences'])"
   ]
  },
  {
   "cell_type": "code",
   "execution_count": 48,
   "id": "34d3ea9d",
   "metadata": {},
   "outputs": [
    {
     "data": {
      "text/html": [
       "<div>\n",
       "<style scoped>\n",
       "    .dataframe tbody tr th:only-of-type {\n",
       "        vertical-align: middle;\n",
       "    }\n",
       "\n",
       "    .dataframe tbody tr th {\n",
       "        vertical-align: top;\n",
       "    }\n",
       "\n",
       "    .dataframe thead th {\n",
       "        text-align: right;\n",
       "    }\n",
       "</style>\n",
       "<table border=\"1\" class=\"dataframe\">\n",
       "  <thead>\n",
       "    <tr style=\"text-align: right;\">\n",
       "      <th></th>\n",
       "      <th>term</th>\n",
       "      <th>occurrences</th>\n",
       "      <th>frequency</th>\n",
       "    </tr>\n",
       "  </thead>\n",
       "  <tbody>\n",
       "    <tr>\n",
       "      <th>0</th>\n",
       "      <td>aaaaaaaaaaaaaaaaaaaaaaaaaaaaaaaaaaaaaaaaaaaaaa...</td>\n",
       "      <td>1</td>\n",
       "      <td>0.000007</td>\n",
       "    </tr>\n",
       "    <tr>\n",
       "      <th>1</th>\n",
       "      <td>aaaaaaaaaaaaaaaaaaaaaaaaaaaaaaaaaaaaaaaaaaaaaa...</td>\n",
       "      <td>1</td>\n",
       "      <td>0.000007</td>\n",
       "    </tr>\n",
       "    <tr>\n",
       "      <th>2</th>\n",
       "      <td>aaaaaaaaaaaaaaaaaaaaaaaaaaaaafhzwiaaaaaaaadzuq...</td>\n",
       "      <td>1</td>\n",
       "      <td>0.000007</td>\n",
       "    </tr>\n",
       "    <tr>\n",
       "      <th>3</th>\n",
       "      <td>aaaaaaaaaaaaaaaaaaaaahzpzxcaaaaaabok</td>\n",
       "      <td>1</td>\n",
       "      <td>0.000007</td>\n",
       "    </tr>\n",
       "    <tr>\n",
       "      <th>4</th>\n",
       "      <td>aaaaaaaaaaaawflaiaaaaaaaag</td>\n",
       "      <td>1</td>\n",
       "      <td>0.000007</td>\n",
       "    </tr>\n",
       "    <tr>\n",
       "      <th>5</th>\n",
       "      <td>aaaaaabwaad</td>\n",
       "      <td>4</td>\n",
       "      <td>0.000027</td>\n",
       "    </tr>\n",
       "    <tr>\n",
       "      <th>6</th>\n",
       "      <td>aaaaaewjvgbqaaaavx</td>\n",
       "      <td>1</td>\n",
       "      <td>0.000007</td>\n",
       "    </tr>\n",
       "    <tr>\n",
       "      <th>7</th>\n",
       "      <td>aaaabrtzwfz</td>\n",
       "      <td>1</td>\n",
       "      <td>0.000007</td>\n",
       "    </tr>\n",
       "    <tr>\n",
       "      <th>8</th>\n",
       "      <td>aaabbqebaqebaqaaaaaaaaadaaec</td>\n",
       "      <td>1</td>\n",
       "      <td>0.000007</td>\n",
       "    </tr>\n",
       "    <tr>\n",
       "      <th>9</th>\n",
       "      <td>aaagbagabbqa</td>\n",
       "      <td>1</td>\n",
       "      <td>0.000007</td>\n",
       "    </tr>\n",
       "    <tr>\n",
       "      <th>10</th>\n",
       "      <td>aaalvaayaah</td>\n",
       "      <td>1</td>\n",
       "      <td>0.000007</td>\n",
       "    </tr>\n",
       "    <tr>\n",
       "      <th>11</th>\n",
       "      <td>aaalvin</td>\n",
       "      <td>1</td>\n",
       "      <td>0.000007</td>\n",
       "    </tr>\n",
       "    <tr>\n",
       "      <th>12</th>\n",
       "      <td>aaas</td>\n",
       "      <td>3</td>\n",
       "      <td>0.000020</td>\n",
       "    </tr>\n",
       "    <tr>\n",
       "      <th>13</th>\n",
       "      <td>aababp</td>\n",
       "      <td>1</td>\n",
       "      <td>0.000007</td>\n",
       "    </tr>\n",
       "    <tr>\n",
       "      <th>14</th>\n",
       "      <td>aabate</td>\n",
       "      <td>1</td>\n",
       "      <td>0.000007</td>\n",
       "    </tr>\n",
       "    <tr>\n",
       "      <th>15</th>\n",
       "      <td>aabbate</td>\n",
       "      <td>2</td>\n",
       "      <td>0.000013</td>\n",
       "    </tr>\n",
       "    <tr>\n",
       "      <th>16</th>\n",
       "      <td>aabe</td>\n",
       "      <td>4</td>\n",
       "      <td>0.000027</td>\n",
       "    </tr>\n",
       "    <tr>\n",
       "      <th>17</th>\n",
       "      <td>aabei</td>\n",
       "      <td>1</td>\n",
       "      <td>0.000007</td>\n",
       "    </tr>\n",
       "    <tr>\n",
       "      <th>18</th>\n",
       "      <td>aabeiacsacambigaceqedeqh</td>\n",
       "      <td>1</td>\n",
       "      <td>0.000007</td>\n",
       "    </tr>\n",
       "    <tr>\n",
       "      <th>19</th>\n",
       "      <td>aabeiapocigmbigaceqedeqh</td>\n",
       "      <td>1</td>\n",
       "      <td>0.000007</td>\n",
       "    </tr>\n",
       "    <tr>\n",
       "      <th>20</th>\n",
       "      <td>aac</td>\n",
       "      <td>1</td>\n",
       "      <td>0.000007</td>\n",
       "    </tr>\n",
       "    <tr>\n",
       "      <th>21</th>\n",
       "      <td>aachen</td>\n",
       "      <td>1</td>\n",
       "      <td>0.000007</td>\n",
       "    </tr>\n",
       "    <tr>\n",
       "      <th>22</th>\n",
       "      <td>aadepartment</td>\n",
       "      <td>1</td>\n",
       "      <td>0.000007</td>\n",
       "    </tr>\n",
       "    <tr>\n",
       "      <th>23</th>\n",
       "      <td>aaeaaaabfsxywvogaaaaaaaaaaaaaaaaaaaaafhzwiaaaa...</td>\n",
       "      <td>1</td>\n",
       "      <td>0.000007</td>\n",
       "    </tr>\n",
       "    <tr>\n",
       "      <th>24</th>\n",
       "      <td>aaeepgsuyaaqibaegasaaa</td>\n",
       "      <td>1</td>\n",
       "      <td>0.000007</td>\n",
       "    </tr>\n",
       "    <tr>\n",
       "      <th>25</th>\n",
       "      <td>aaefaqebaaaaaaaaaaaaaaqaagmfbgehcaeaawebaqeaaa...</td>\n",
       "      <td>1</td>\n",
       "      <td>0.000007</td>\n",
       "    </tr>\n",
       "    <tr>\n",
       "      <th>26</th>\n",
       "      <td>aahhhh</td>\n",
       "      <td>2</td>\n",
       "      <td>0.000013</td>\n",
       "    </tr>\n",
       "    <tr>\n",
       "      <th>27</th>\n",
       "      <td>aaid</td>\n",
       "      <td>1</td>\n",
       "      <td>0.000007</td>\n",
       "    </tr>\n",
       "    <tr>\n",
       "      <th>28</th>\n",
       "      <td>aaii</td>\n",
       "      <td>3</td>\n",
       "      <td>0.000020</td>\n",
       "    </tr>\n",
       "    <tr>\n",
       "      <th>29</th>\n",
       "      <td>aalbers</td>\n",
       "      <td>1</td>\n",
       "      <td>0.000007</td>\n",
       "    </tr>\n",
       "  </tbody>\n",
       "</table>\n",
       "</div>"
      ],
      "text/plain": [
       "                                                 term  occurrences  frequency\n",
       "0   aaaaaaaaaaaaaaaaaaaaaaaaaaaaaaaaaaaaaaaaaaaaaa...            1   0.000007\n",
       "1   aaaaaaaaaaaaaaaaaaaaaaaaaaaaaaaaaaaaaaaaaaaaaa...            1   0.000007\n",
       "2   aaaaaaaaaaaaaaaaaaaaaaaaaaaaafhzwiaaaaaaaadzuq...            1   0.000007\n",
       "3                aaaaaaaaaaaaaaaaaaaaahzpzxcaaaaaabok            1   0.000007\n",
       "4                          aaaaaaaaaaaawflaiaaaaaaaag            1   0.000007\n",
       "5                                         aaaaaabwaad            4   0.000027\n",
       "6                                  aaaaaewjvgbqaaaavx            1   0.000007\n",
       "7                                         aaaabrtzwfz            1   0.000007\n",
       "8                        aaabbqebaqebaqaaaaaaaaadaaec            1   0.000007\n",
       "9                                        aaagbagabbqa            1   0.000007\n",
       "10                                        aaalvaayaah            1   0.000007\n",
       "11                                            aaalvin            1   0.000007\n",
       "12                                               aaas            3   0.000020\n",
       "13                                             aababp            1   0.000007\n",
       "14                                             aabate            1   0.000007\n",
       "15                                            aabbate            2   0.000013\n",
       "16                                               aabe            4   0.000027\n",
       "17                                              aabei            1   0.000007\n",
       "18                           aabeiacsacambigaceqedeqh            1   0.000007\n",
       "19                           aabeiapocigmbigaceqedeqh            1   0.000007\n",
       "20                                                aac            1   0.000007\n",
       "21                                             aachen            1   0.000007\n",
       "22                                       aadepartment            1   0.000007\n",
       "23  aaeaaaabfsxywvogaaaaaaaaaaaaaaaaaaaaafhzwiaaaa...            1   0.000007\n",
       "24                             aaeepgsuyaaqibaegasaaa            1   0.000007\n",
       "25  aaefaqebaaaaaaaaaaaaaaqaagmfbgehcaeaawebaqeaaa...            1   0.000007\n",
       "26                                             aahhhh            2   0.000013\n",
       "27                                               aaid            1   0.000007\n",
       "28                                               aaii            3   0.000020\n",
       "29                                            aalbers            1   0.000007"
      ]
     },
     "execution_count": 48,
     "metadata": {},
     "output_type": "execute_result"
    }
   ],
   "source": [
    "word_freq_df.head(30)"
   ]
  },
  {
   "cell_type": "markdown",
   "id": "fd72ff4d",
   "metadata": {},
   "source": [
    "# 2.TFIDF (Term Frequency Inverse Document Frequency) Vectorizer"
   ]
  },
  {
   "cell_type": "code",
   "execution_count": 49,
   "id": "102c22f6",
   "metadata": {},
   "outputs": [],
   "source": [
    "vectorizer=TfidfVectorizer(stop_words='english',max_features=500,max_df=1,smooth_idf=True) # keep top 500 words\n",
    "doc_vec=vectorizer.fit_transform(em['content'])\n",
    "feature_names=vectorizer.get_feature_names_out()\n",
    "dense=doc_vec.todense()  # todense returns a matrix\n",
    "denselist=dense.tolist()\n",
    "df=pd.DataFrame(denselist,columns=feature_names)"
   ]
  },
  {
   "cell_type": "code",
   "execution_count": 50,
   "id": "f9cf7659",
   "metadata": {},
   "outputs": [
    {
     "data": {
      "text/html": [
       "<div>\n",
       "<style scoped>\n",
       "    .dataframe tbody tr th:only-of-type {\n",
       "        vertical-align: middle;\n",
       "    }\n",
       "\n",
       "    .dataframe tbody tr th {\n",
       "        vertical-align: top;\n",
       "    }\n",
       "\n",
       "    .dataframe thead th {\n",
       "        text-align: right;\n",
       "    }\n",
       "</style>\n",
       "<table border=\"1\" class=\"dataframe\">\n",
       "  <thead>\n",
       "    <tr style=\"text-align: right;\">\n",
       "      <th></th>\n",
       "      <th>abramoff</th>\n",
       "      <th>acegas</th>\n",
       "      <th>actarray</th>\n",
       "      <th>activitated</th>\n",
       "      <th>advantium</th>\n",
       "      <th>aeb</th>\n",
       "      <th>aefa</th>\n",
       "      <th>afterholiem</th>\n",
       "      <th>aftertax</th>\n",
       "      <th>afudc</th>\n",
       "      <th>...</th>\n",
       "      <th>yfti</th>\n",
       "      <th>yil</th>\n",
       "      <th>yourman</th>\n",
       "      <th>youwintrivia</th>\n",
       "      <th>zeroue</th>\n",
       "      <th>zonealarm</th>\n",
       "      <th>zoomerang</th>\n",
       "      <th>zpro</th>\n",
       "      <th>zubeida</th>\n",
       "      <th>zzzipe</th>\n",
       "    </tr>\n",
       "  </thead>\n",
       "  <tbody>\n",
       "    <tr>\n",
       "      <th>0</th>\n",
       "      <td>0.0</td>\n",
       "      <td>0.0</td>\n",
       "      <td>0.0</td>\n",
       "      <td>0.0</td>\n",
       "      <td>0.0</td>\n",
       "      <td>0.0</td>\n",
       "      <td>0.0</td>\n",
       "      <td>0.0</td>\n",
       "      <td>0.0</td>\n",
       "      <td>0.0</td>\n",
       "      <td>...</td>\n",
       "      <td>0.0</td>\n",
       "      <td>0.0</td>\n",
       "      <td>0.0</td>\n",
       "      <td>0.0</td>\n",
       "      <td>0.0</td>\n",
       "      <td>0.0</td>\n",
       "      <td>0.0</td>\n",
       "      <td>0.0</td>\n",
       "      <td>0.0</td>\n",
       "      <td>0.0</td>\n",
       "    </tr>\n",
       "    <tr>\n",
       "      <th>1</th>\n",
       "      <td>0.0</td>\n",
       "      <td>0.0</td>\n",
       "      <td>0.0</td>\n",
       "      <td>0.0</td>\n",
       "      <td>0.0</td>\n",
       "      <td>0.0</td>\n",
       "      <td>0.0</td>\n",
       "      <td>0.0</td>\n",
       "      <td>0.0</td>\n",
       "      <td>0.0</td>\n",
       "      <td>...</td>\n",
       "      <td>0.0</td>\n",
       "      <td>0.0</td>\n",
       "      <td>0.0</td>\n",
       "      <td>0.0</td>\n",
       "      <td>0.0</td>\n",
       "      <td>0.0</td>\n",
       "      <td>0.0</td>\n",
       "      <td>0.0</td>\n",
       "      <td>0.0</td>\n",
       "      <td>0.0</td>\n",
       "    </tr>\n",
       "    <tr>\n",
       "      <th>2</th>\n",
       "      <td>0.0</td>\n",
       "      <td>0.0</td>\n",
       "      <td>0.0</td>\n",
       "      <td>0.0</td>\n",
       "      <td>0.0</td>\n",
       "      <td>0.0</td>\n",
       "      <td>0.0</td>\n",
       "      <td>0.0</td>\n",
       "      <td>0.0</td>\n",
       "      <td>0.0</td>\n",
       "      <td>...</td>\n",
       "      <td>0.0</td>\n",
       "      <td>0.0</td>\n",
       "      <td>0.0</td>\n",
       "      <td>0.0</td>\n",
       "      <td>0.0</td>\n",
       "      <td>0.0</td>\n",
       "      <td>0.0</td>\n",
       "      <td>0.0</td>\n",
       "      <td>0.0</td>\n",
       "      <td>0.0</td>\n",
       "    </tr>\n",
       "    <tr>\n",
       "      <th>3</th>\n",
       "      <td>0.0</td>\n",
       "      <td>0.0</td>\n",
       "      <td>0.0</td>\n",
       "      <td>0.0</td>\n",
       "      <td>0.0</td>\n",
       "      <td>0.0</td>\n",
       "      <td>0.0</td>\n",
       "      <td>0.0</td>\n",
       "      <td>0.0</td>\n",
       "      <td>0.0</td>\n",
       "      <td>...</td>\n",
       "      <td>0.0</td>\n",
       "      <td>0.0</td>\n",
       "      <td>0.0</td>\n",
       "      <td>0.0</td>\n",
       "      <td>0.0</td>\n",
       "      <td>0.0</td>\n",
       "      <td>0.0</td>\n",
       "      <td>0.0</td>\n",
       "      <td>0.0</td>\n",
       "      <td>0.0</td>\n",
       "    </tr>\n",
       "    <tr>\n",
       "      <th>4</th>\n",
       "      <td>0.0</td>\n",
       "      <td>0.0</td>\n",
       "      <td>0.0</td>\n",
       "      <td>0.0</td>\n",
       "      <td>0.0</td>\n",
       "      <td>0.0</td>\n",
       "      <td>0.0</td>\n",
       "      <td>0.0</td>\n",
       "      <td>0.0</td>\n",
       "      <td>0.0</td>\n",
       "      <td>...</td>\n",
       "      <td>0.0</td>\n",
       "      <td>0.0</td>\n",
       "      <td>0.0</td>\n",
       "      <td>0.0</td>\n",
       "      <td>0.0</td>\n",
       "      <td>0.0</td>\n",
       "      <td>0.0</td>\n",
       "      <td>0.0</td>\n",
       "      <td>0.0</td>\n",
       "      <td>0.0</td>\n",
       "    </tr>\n",
       "    <tr>\n",
       "      <th>...</th>\n",
       "      <td>...</td>\n",
       "      <td>...</td>\n",
       "      <td>...</td>\n",
       "      <td>...</td>\n",
       "      <td>...</td>\n",
       "      <td>...</td>\n",
       "      <td>...</td>\n",
       "      <td>...</td>\n",
       "      <td>...</td>\n",
       "      <td>...</td>\n",
       "      <td>...</td>\n",
       "      <td>...</td>\n",
       "      <td>...</td>\n",
       "      <td>...</td>\n",
       "      <td>...</td>\n",
       "      <td>...</td>\n",
       "      <td>...</td>\n",
       "      <td>...</td>\n",
       "      <td>...</td>\n",
       "      <td>...</td>\n",
       "      <td>...</td>\n",
       "    </tr>\n",
       "    <tr>\n",
       "      <th>26419</th>\n",
       "      <td>0.0</td>\n",
       "      <td>0.0</td>\n",
       "      <td>0.0</td>\n",
       "      <td>0.0</td>\n",
       "      <td>0.0</td>\n",
       "      <td>0.0</td>\n",
       "      <td>0.0</td>\n",
       "      <td>0.0</td>\n",
       "      <td>0.0</td>\n",
       "      <td>0.0</td>\n",
       "      <td>...</td>\n",
       "      <td>0.0</td>\n",
       "      <td>0.0</td>\n",
       "      <td>0.0</td>\n",
       "      <td>0.0</td>\n",
       "      <td>0.0</td>\n",
       "      <td>0.0</td>\n",
       "      <td>0.0</td>\n",
       "      <td>0.0</td>\n",
       "      <td>0.0</td>\n",
       "      <td>0.0</td>\n",
       "    </tr>\n",
       "    <tr>\n",
       "      <th>26420</th>\n",
       "      <td>0.0</td>\n",
       "      <td>0.0</td>\n",
       "      <td>0.0</td>\n",
       "      <td>0.0</td>\n",
       "      <td>0.0</td>\n",
       "      <td>0.0</td>\n",
       "      <td>0.0</td>\n",
       "      <td>0.0</td>\n",
       "      <td>0.0</td>\n",
       "      <td>0.0</td>\n",
       "      <td>...</td>\n",
       "      <td>0.0</td>\n",
       "      <td>0.0</td>\n",
       "      <td>0.0</td>\n",
       "      <td>0.0</td>\n",
       "      <td>0.0</td>\n",
       "      <td>0.0</td>\n",
       "      <td>0.0</td>\n",
       "      <td>0.0</td>\n",
       "      <td>0.0</td>\n",
       "      <td>0.0</td>\n",
       "    </tr>\n",
       "    <tr>\n",
       "      <th>26421</th>\n",
       "      <td>0.0</td>\n",
       "      <td>0.0</td>\n",
       "      <td>0.0</td>\n",
       "      <td>0.0</td>\n",
       "      <td>0.0</td>\n",
       "      <td>0.0</td>\n",
       "      <td>0.0</td>\n",
       "      <td>0.0</td>\n",
       "      <td>0.0</td>\n",
       "      <td>0.0</td>\n",
       "      <td>...</td>\n",
       "      <td>0.0</td>\n",
       "      <td>0.0</td>\n",
       "      <td>0.0</td>\n",
       "      <td>0.0</td>\n",
       "      <td>0.0</td>\n",
       "      <td>0.0</td>\n",
       "      <td>0.0</td>\n",
       "      <td>0.0</td>\n",
       "      <td>0.0</td>\n",
       "      <td>0.0</td>\n",
       "    </tr>\n",
       "    <tr>\n",
       "      <th>26422</th>\n",
       "      <td>0.0</td>\n",
       "      <td>0.0</td>\n",
       "      <td>0.0</td>\n",
       "      <td>0.0</td>\n",
       "      <td>0.0</td>\n",
       "      <td>0.0</td>\n",
       "      <td>0.0</td>\n",
       "      <td>0.0</td>\n",
       "      <td>0.0</td>\n",
       "      <td>0.0</td>\n",
       "      <td>...</td>\n",
       "      <td>0.0</td>\n",
       "      <td>0.0</td>\n",
       "      <td>0.0</td>\n",
       "      <td>0.0</td>\n",
       "      <td>0.0</td>\n",
       "      <td>0.0</td>\n",
       "      <td>0.0</td>\n",
       "      <td>0.0</td>\n",
       "      <td>0.0</td>\n",
       "      <td>0.0</td>\n",
       "    </tr>\n",
       "    <tr>\n",
       "      <th>26423</th>\n",
       "      <td>0.0</td>\n",
       "      <td>0.0</td>\n",
       "      <td>0.0</td>\n",
       "      <td>0.0</td>\n",
       "      <td>0.0</td>\n",
       "      <td>0.0</td>\n",
       "      <td>0.0</td>\n",
       "      <td>0.0</td>\n",
       "      <td>0.0</td>\n",
       "      <td>0.0</td>\n",
       "      <td>...</td>\n",
       "      <td>0.0</td>\n",
       "      <td>0.0</td>\n",
       "      <td>0.0</td>\n",
       "      <td>0.0</td>\n",
       "      <td>0.0</td>\n",
       "      <td>0.0</td>\n",
       "      <td>0.0</td>\n",
       "      <td>0.0</td>\n",
       "      <td>0.0</td>\n",
       "      <td>0.0</td>\n",
       "    </tr>\n",
       "  </tbody>\n",
       "</table>\n",
       "<p>26424 rows × 500 columns</p>\n",
       "</div>"
      ],
      "text/plain": [
       "       abramoff  acegas  actarray  activitated  advantium  aeb  aefa  \\\n",
       "0           0.0     0.0       0.0          0.0        0.0  0.0   0.0   \n",
       "1           0.0     0.0       0.0          0.0        0.0  0.0   0.0   \n",
       "2           0.0     0.0       0.0          0.0        0.0  0.0   0.0   \n",
       "3           0.0     0.0       0.0          0.0        0.0  0.0   0.0   \n",
       "4           0.0     0.0       0.0          0.0        0.0  0.0   0.0   \n",
       "...         ...     ...       ...          ...        ...  ...   ...   \n",
       "26419       0.0     0.0       0.0          0.0        0.0  0.0   0.0   \n",
       "26420       0.0     0.0       0.0          0.0        0.0  0.0   0.0   \n",
       "26421       0.0     0.0       0.0          0.0        0.0  0.0   0.0   \n",
       "26422       0.0     0.0       0.0          0.0        0.0  0.0   0.0   \n",
       "26423       0.0     0.0       0.0          0.0        0.0  0.0   0.0   \n",
       "\n",
       "       afterholiem  aftertax  afudc  ...  yfti  yil  yourman  youwintrivia  \\\n",
       "0              0.0       0.0    0.0  ...   0.0  0.0      0.0           0.0   \n",
       "1              0.0       0.0    0.0  ...   0.0  0.0      0.0           0.0   \n",
       "2              0.0       0.0    0.0  ...   0.0  0.0      0.0           0.0   \n",
       "3              0.0       0.0    0.0  ...   0.0  0.0      0.0           0.0   \n",
       "4              0.0       0.0    0.0  ...   0.0  0.0      0.0           0.0   \n",
       "...            ...       ...    ...  ...   ...  ...      ...           ...   \n",
       "26419          0.0       0.0    0.0  ...   0.0  0.0      0.0           0.0   \n",
       "26420          0.0       0.0    0.0  ...   0.0  0.0      0.0           0.0   \n",
       "26421          0.0       0.0    0.0  ...   0.0  0.0      0.0           0.0   \n",
       "26422          0.0       0.0    0.0  ...   0.0  0.0      0.0           0.0   \n",
       "26423          0.0       0.0    0.0  ...   0.0  0.0      0.0           0.0   \n",
       "\n",
       "       zeroue  zonealarm  zoomerang  zpro  zubeida  zzzipe  \n",
       "0         0.0        0.0        0.0   0.0      0.0     0.0  \n",
       "1         0.0        0.0        0.0   0.0      0.0     0.0  \n",
       "2         0.0        0.0        0.0   0.0      0.0     0.0  \n",
       "3         0.0        0.0        0.0   0.0      0.0     0.0  \n",
       "4         0.0        0.0        0.0   0.0      0.0     0.0  \n",
       "...       ...        ...        ...   ...      ...     ...  \n",
       "26419     0.0        0.0        0.0   0.0      0.0     0.0  \n",
       "26420     0.0        0.0        0.0   0.0      0.0     0.0  \n",
       "26421     0.0        0.0        0.0   0.0      0.0     0.0  \n",
       "26422     0.0        0.0        0.0   0.0      0.0     0.0  \n",
       "26423     0.0        0.0        0.0   0.0      0.0     0.0  \n",
       "\n",
       "[26424 rows x 500 columns]"
      ]
     },
     "execution_count": 50,
     "metadata": {},
     "output_type": "execute_result"
    }
   ],
   "source": [
    "df"
   ]
  },
  {
   "cell_type": "markdown",
   "id": "d3ffa9e8",
   "metadata": {},
   "source": [
    "# 3. N-Gram Vectorizer"
   ]
  },
  {
   "cell_type": "code",
   "execution_count": 51,
   "id": "54ebb540",
   "metadata": {},
   "outputs": [],
   "source": [
    "# Bi-gram\n",
    "\n",
    "def get_top_n2_words(corpus,n=None):\n",
    "    vec1=CountVectorizer(ngram_range=(2,2),max_features=2000).fit(corpus)\n",
    "    bag_of_words=vec1.transform(corpus)\n",
    "    sum_words=bag_of_words.sum(axis=0)\n",
    "    word_freq=[(word,sum_words[0,idx]) for word,idx in vec1.vocabulary_.items()]\n",
    "    word_freq=sorted(word_freq, key=lambda x: x[1],reverse=True)\n",
    "    return word_freq[:n]"
   ]
  },
  {
   "cell_type": "code",
   "execution_count": 52,
   "id": "81dff7a9",
   "metadata": {},
   "outputs": [
    {
     "data": {
      "text/html": [
       "<div>\n",
       "<style scoped>\n",
       "    .dataframe tbody tr th:only-of-type {\n",
       "        vertical-align: middle;\n",
       "    }\n",
       "\n",
       "    .dataframe tbody tr th {\n",
       "        vertical-align: top;\n",
       "    }\n",
       "\n",
       "    .dataframe thead th {\n",
       "        text-align: right;\n",
       "    }\n",
       "</style>\n",
       "<table border=\"1\" class=\"dataframe\">\n",
       "  <thead>\n",
       "    <tr style=\"text-align: right;\">\n",
       "      <th></th>\n",
       "      <th>Bi-grams</th>\n",
       "      <th>Freq</th>\n",
       "    </tr>\n",
       "  </thead>\n",
       "  <tbody>\n",
       "    <tr>\n",
       "      <th>0</th>\n",
       "      <td>hou ect</td>\n",
       "      <td>18691</td>\n",
       "    </tr>\n",
       "    <tr>\n",
       "      <th>1</th>\n",
       "      <td>ect ect</td>\n",
       "      <td>18674</td>\n",
       "    </tr>\n",
       "    <tr>\n",
       "      <th>2</th>\n",
       "      <td>http www</td>\n",
       "      <td>17005</td>\n",
       "    </tr>\n",
       "    <tr>\n",
       "      <th>3</th>\n",
       "      <td>excelr excelr</td>\n",
       "      <td>13404</td>\n",
       "    </tr>\n",
       "    <tr>\n",
       "      <th>4</th>\n",
       "      <td>excelr com</td>\n",
       "      <td>9653</td>\n",
       "    </tr>\n",
       "    <tr>\n",
       "      <th>5</th>\n",
       "      <td>original message</td>\n",
       "      <td>9590</td>\n",
       "    </tr>\n",
       "    <tr>\n",
       "      <th>6</th>\n",
       "      <td>td td</td>\n",
       "      <td>9165</td>\n",
       "    </tr>\n",
       "    <tr>\n",
       "      <th>7</th>\n",
       "      <td>font size</td>\n",
       "      <td>8396</td>\n",
       "    </tr>\n",
       "    <tr>\n",
       "      <th>8</th>\n",
       "      <td>td class</td>\n",
       "      <td>6112</td>\n",
       "    </tr>\n",
       "    <tr>\n",
       "      <th>9</th>\n",
       "      <td>href http</td>\n",
       "      <td>5593</td>\n",
       "    </tr>\n",
       "    <tr>\n",
       "      <th>10</th>\n",
       "      <td>align right</td>\n",
       "      <td>5423</td>\n",
       "    </tr>\n",
       "    <tr>\n",
       "      <th>11</th>\n",
       "      <td>cc subject</td>\n",
       "      <td>5398</td>\n",
       "    </tr>\n",
       "    <tr>\n",
       "      <th>12</th>\n",
       "      <td>et excelr</td>\n",
       "      <td>5291</td>\n",
       "    </tr>\n",
       "    <tr>\n",
       "      <th>13</th>\n",
       "      <td>sportsline com</td>\n",
       "      <td>5225</td>\n",
       "    </tr>\n",
       "    <tr>\n",
       "      <th>14</th>\n",
       "      <td>corp excelr</td>\n",
       "      <td>4988</td>\n",
       "    </tr>\n",
       "    <tr>\n",
       "      <th>15</th>\n",
       "      <td>let know</td>\n",
       "      <td>4412</td>\n",
       "    </tr>\n",
       "    <tr>\n",
       "      <th>16</th>\n",
       "      <td>font font</td>\n",
       "      <td>4319</td>\n",
       "    </tr>\n",
       "    <tr>\n",
       "      <th>17</th>\n",
       "      <td>td tr</td>\n",
       "      <td>4295</td>\n",
       "    </tr>\n",
       "    <tr>\n",
       "      <th>18</th>\n",
       "      <td>font face</td>\n",
       "      <td>4191</td>\n",
       "    </tr>\n",
       "    <tr>\n",
       "      <th>19</th>\n",
       "      <td>font td</td>\n",
       "      <td>4169</td>\n",
       "    </tr>\n",
       "    <tr>\n",
       "      <th>20</th>\n",
       "      <td>com asp</td>\n",
       "      <td>4136</td>\n",
       "    </tr>\n",
       "    <tr>\n",
       "      <th>21</th>\n",
       "      <td>font br</td>\n",
       "      <td>4020</td>\n",
       "    </tr>\n",
       "    <tr>\n",
       "      <th>22</th>\n",
       "      <td>class align</td>\n",
       "      <td>3988</td>\n",
       "    </tr>\n",
       "    <tr>\n",
       "      <th>23</th>\n",
       "      <td>face arial</td>\n",
       "      <td>3962</td>\n",
       "    </tr>\n",
       "    <tr>\n",
       "      <th>24</th>\n",
       "      <td>fool com</td>\n",
       "      <td>3872</td>\n",
       "    </tr>\n",
       "    <tr>\n",
       "      <th>25</th>\n",
       "      <td>td align</td>\n",
       "      <td>3799</td>\n",
       "    </tr>\n",
       "    <tr>\n",
       "      <th>26</th>\n",
       "      <td>http fantasy</td>\n",
       "      <td>3778</td>\n",
       "    </tr>\n",
       "    <tr>\n",
       "      <th>27</th>\n",
       "      <td>fantasy sportsline</td>\n",
       "      <td>3775</td>\n",
       "    </tr>\n",
       "    <tr>\n",
       "      <th>28</th>\n",
       "      <td>www fool</td>\n",
       "      <td>3686</td>\n",
       "    </tr>\n",
       "    <tr>\n",
       "      <th>29</th>\n",
       "      <td>com mp</td>\n",
       "      <td>3664</td>\n",
       "    </tr>\n",
       "    <tr>\n",
       "      <th>30</th>\n",
       "      <td>arial helvetica</td>\n",
       "      <td>3551</td>\n",
       "    </tr>\n",
       "    <tr>\n",
       "      <th>31</th>\n",
       "      <td>na excelr</td>\n",
       "      <td>3520</td>\n",
       "    </tr>\n",
       "    <tr>\n",
       "      <th>32</th>\n",
       "      <td>ect cc</td>\n",
       "      <td>3442</td>\n",
       "    </tr>\n",
       "    <tr>\n",
       "      <th>33</th>\n",
       "      <td>mp elink</td>\n",
       "      <td>3416</td>\n",
       "    </tr>\n",
       "    <tr>\n",
       "      <th>34</th>\n",
       "      <td>owner random</td>\n",
       "      <td>3414</td>\n",
       "    </tr>\n",
       "    <tr>\n",
       "      <th>35</th>\n",
       "      <td>elink script</td>\n",
       "      <td>3414</td>\n",
       "    </tr>\n",
       "    <tr>\n",
       "      <th>36</th>\n",
       "      <td>br br</td>\n",
       "      <td>3301</td>\n",
       "    </tr>\n",
       "    <tr>\n",
       "      <th>37</th>\n",
       "      <td>random key</td>\n",
       "      <td>3235</td>\n",
       "    </tr>\n",
       "    <tr>\n",
       "      <th>38</th>\n",
       "      <td>tr tr</td>\n",
       "      <td>2983</td>\n",
       "    </tr>\n",
       "    <tr>\n",
       "      <th>39</th>\n",
       "      <td>players league</td>\n",
       "      <td>2855</td>\n",
       "    </tr>\n",
       "    <tr>\n",
       "      <th>40</th>\n",
       "      <td>size font</td>\n",
       "      <td>2844</td>\n",
       "    </tr>\n",
       "    <tr>\n",
       "      <th>41</th>\n",
       "      <td>tr td</td>\n",
       "      <td>2774</td>\n",
       "    </tr>\n",
       "    <tr>\n",
       "      <th>42</th>\n",
       "      <td>trans type</td>\n",
       "      <td>2761</td>\n",
       "    </tr>\n",
       "    <tr>\n",
       "      <th>43</th>\n",
       "      <td>type final</td>\n",
       "      <td>2761</td>\n",
       "    </tr>\n",
       "    <tr>\n",
       "      <th>44</th>\n",
       "      <td>mkt type</td>\n",
       "      <td>2761</td>\n",
       "    </tr>\n",
       "    <tr>\n",
       "      <th>45</th>\n",
       "      <td>would like</td>\n",
       "      <td>2737</td>\n",
       "    </tr>\n",
       "    <tr>\n",
       "      <th>46</th>\n",
       "      <td>br font</td>\n",
       "      <td>2731</td>\n",
       "    </tr>\n",
       "    <tr>\n",
       "      <th>47</th>\n",
       "      <td>hotmail com</td>\n",
       "      <td>2703</td>\n",
       "    </tr>\n",
       "    <tr>\n",
       "      <th>48</th>\n",
       "      <td>excelr excelrxgate</td>\n",
       "      <td>2649</td>\n",
       "    </tr>\n",
       "    <tr>\n",
       "      <th>49</th>\n",
       "      <td>eric bass</td>\n",
       "      <td>2618</td>\n",
       "    </tr>\n",
       "  </tbody>\n",
       "</table>\n",
       "</div>"
      ],
      "text/plain": [
       "              Bi-grams   Freq\n",
       "0              hou ect  18691\n",
       "1              ect ect  18674\n",
       "2             http www  17005\n",
       "3        excelr excelr  13404\n",
       "4           excelr com   9653\n",
       "5     original message   9590\n",
       "6                td td   9165\n",
       "7            font size   8396\n",
       "8             td class   6112\n",
       "9            href http   5593\n",
       "10         align right   5423\n",
       "11          cc subject   5398\n",
       "12           et excelr   5291\n",
       "13      sportsline com   5225\n",
       "14         corp excelr   4988\n",
       "15            let know   4412\n",
       "16           font font   4319\n",
       "17               td tr   4295\n",
       "18           font face   4191\n",
       "19             font td   4169\n",
       "20             com asp   4136\n",
       "21             font br   4020\n",
       "22         class align   3988\n",
       "23          face arial   3962\n",
       "24            fool com   3872\n",
       "25            td align   3799\n",
       "26        http fantasy   3778\n",
       "27  fantasy sportsline   3775\n",
       "28            www fool   3686\n",
       "29              com mp   3664\n",
       "30     arial helvetica   3551\n",
       "31           na excelr   3520\n",
       "32              ect cc   3442\n",
       "33            mp elink   3416\n",
       "34        owner random   3414\n",
       "35        elink script   3414\n",
       "36               br br   3301\n",
       "37          random key   3235\n",
       "38               tr tr   2983\n",
       "39      players league   2855\n",
       "40           size font   2844\n",
       "41               tr td   2774\n",
       "42          trans type   2761\n",
       "43          type final   2761\n",
       "44            mkt type   2761\n",
       "45          would like   2737\n",
       "46             br font   2731\n",
       "47         hotmail com   2703\n",
       "48  excelr excelrxgate   2649\n",
       "49           eric bass   2618"
      ]
     },
     "execution_count": 52,
     "metadata": {},
     "output_type": "execute_result"
    }
   ],
   "source": [
    "top2_words=get_top_n2_words(em['content'],n=200) # top 200\n",
    "top2_df=pd.DataFrame(top2_words)\n",
    "top2_df.columns=['Bi-grams','Freq']\n",
    "top2_df.head(50)"
   ]
  },
  {
   "cell_type": "code",
   "execution_count": 53,
   "id": "60778290",
   "metadata": {},
   "outputs": [
    {
     "data": {
      "text/plain": [
       "[Text(0, 0, 'hou ect'),\n",
       " Text(1, 0, 'ect ect'),\n",
       " Text(2, 0, 'http www'),\n",
       " Text(3, 0, 'excelr excelr'),\n",
       " Text(4, 0, 'excelr com'),\n",
       " Text(5, 0, 'original message'),\n",
       " Text(6, 0, 'td td'),\n",
       " Text(7, 0, 'font size'),\n",
       " Text(8, 0, 'td class'),\n",
       " Text(9, 0, 'href http'),\n",
       " Text(10, 0, 'align right'),\n",
       " Text(11, 0, 'cc subject'),\n",
       " Text(12, 0, 'et excelr'),\n",
       " Text(13, 0, 'sportsline com'),\n",
       " Text(14, 0, 'corp excelr'),\n",
       " Text(15, 0, 'let know'),\n",
       " Text(16, 0, 'font font'),\n",
       " Text(17, 0, 'td tr'),\n",
       " Text(18, 0, 'font face'),\n",
       " Text(19, 0, 'font td')]"
      ]
     },
     "execution_count": 53,
     "metadata": {},
     "output_type": "execute_result"
    },
    {
     "data": {
      "image/png": "[encoded data removed]",
      "text/plain": [
       "<Figure size 1000x500 with 1 Axes>"
      ]
     },
     "metadata": {},
     "output_type": "display_data"
    }
   ],
   "source": [
    "# Bi-gram plot\n",
    "top20_bigram=top2_df.iloc[0:20,:]\n",
    "fig=plt.figure(figsize=(10,5))\n",
    "plot=sns.barplot(x=top20_bigram['Bi-grams'],y=top20_bigram['Freq'])\n",
    "plot.set_xticklabels(rotation=45,labels=top20_bigram['Bi-grams'])"
   ]
  },
  {
   "cell_type": "code",
   "execution_count": 54,
   "id": "72610297",
   "metadata": {},
   "outputs": [],
   "source": [
    "# Tri-gram\n",
    "\n",
    "def get_top_n3_words(corpus,n=None):\n",
    "    vec1=CountVectorizer(ngram_range=(3,3),max_features=2000).fit(corpus)\n",
    "    bag_of_words=vec1.transform(corpus)\n",
    "    sum_words=bag_of_words.sum(axis=0)\n",
    "    word_freq=[(word,sum_words[0,idx]) for word,idx in vec1.vocabulary_.items()]\n",
    "    word_freq=sorted(word_freq, key=lambda x: x[1],reverse=True)\n",
    "    return word_freq[:n]"
   ]
  },
  {
   "cell_type": "code",
   "execution_count": 55,
   "id": "3ab88f70",
   "metadata": {},
   "outputs": [
    {
     "data": {
      "text/html": [
       "<div>\n",
       "<style scoped>\n",
       "    .dataframe tbody tr th:only-of-type {\n",
       "        vertical-align: middle;\n",
       "    }\n",
       "\n",
       "    .dataframe tbody tr th {\n",
       "        vertical-align: top;\n",
       "    }\n",
       "\n",
       "    .dataframe thead th {\n",
       "        text-align: right;\n",
       "    }\n",
       "</style>\n",
       "<table border=\"1\" class=\"dataframe\">\n",
       "  <thead>\n",
       "    <tr style=\"text-align: right;\">\n",
       "      <th></th>\n",
       "      <th>Tri-grams</th>\n",
       "      <th>Freq</th>\n",
       "    </tr>\n",
       "  </thead>\n",
       "  <tbody>\n",
       "    <tr>\n",
       "      <th>0</th>\n",
       "      <td>hou ect ect</td>\n",
       "      <td>15885</td>\n",
       "    </tr>\n",
       "    <tr>\n",
       "      <th>1</th>\n",
       "      <td>et excelr excelr</td>\n",
       "      <td>4890</td>\n",
       "    </tr>\n",
       "    <tr>\n",
       "      <th>2</th>\n",
       "      <td>td td class</td>\n",
       "      <td>4769</td>\n",
       "    </tr>\n",
       "    <tr>\n",
       "      <th>3</th>\n",
       "      <td>td class align</td>\n",
       "      <td>3985</td>\n",
       "    </tr>\n",
       "    <tr>\n",
       "      <th>4</th>\n",
       "      <td>corp excelr excelr</td>\n",
       "      <td>3851</td>\n",
       "    </tr>\n",
       "    <tr>\n",
       "      <th>5</th>\n",
       "      <td>fantasy sportsline com</td>\n",
       "      <td>3773</td>\n",
       "    </tr>\n",
       "    <tr>\n",
       "      <th>6</th>\n",
       "      <td>http fantasy sportsline</td>\n",
       "      <td>3770</td>\n",
       "    </tr>\n",
       "    <tr>\n",
       "      <th>7</th>\n",
       "      <td>www fool com</td>\n",
       "      <td>3686</td>\n",
       "    </tr>\n",
       "    <tr>\n",
       "      <th>8</th>\n",
       "      <td>http www fool</td>\n",
       "      <td>3685</td>\n",
       "    </tr>\n",
       "    <tr>\n",
       "      <th>9</th>\n",
       "      <td>sportsline com mp</td>\n",
       "      <td>3651</td>\n",
       "    </tr>\n",
       "    <tr>\n",
       "      <th>10</th>\n",
       "      <td>font face arial</td>\n",
       "      <td>3504</td>\n",
       "    </tr>\n",
       "    <tr>\n",
       "      <th>11</th>\n",
       "      <td>fool com asp</td>\n",
       "      <td>3459</td>\n",
       "    </tr>\n",
       "    <tr>\n",
       "      <th>12</th>\n",
       "      <td>com mp elink</td>\n",
       "      <td>3414</td>\n",
       "    </tr>\n",
       "    <tr>\n",
       "      <th>13</th>\n",
       "      <td>mp elink script</td>\n",
       "      <td>3414</td>\n",
       "    </tr>\n",
       "    <tr>\n",
       "      <th>14</th>\n",
       "      <td>ect ect cc</td>\n",
       "      <td>3391</td>\n",
       "    </tr>\n",
       "    <tr>\n",
       "      <th>15</th>\n",
       "      <td>owner random key</td>\n",
       "      <td>3235</td>\n",
       "    </tr>\n",
       "    <tr>\n",
       "      <th>16</th>\n",
       "      <td>face arial helvetica</td>\n",
       "      <td>3210</td>\n",
       "    </tr>\n",
       "    <tr>\n",
       "      <th>17</th>\n",
       "      <td>href http fantasy</td>\n",
       "      <td>3170</td>\n",
       "    </tr>\n",
       "    <tr>\n",
       "      <th>18</th>\n",
       "      <td>na excelr excelr</td>\n",
       "      <td>3085</td>\n",
       "    </tr>\n",
       "    <tr>\n",
       "      <th>19</th>\n",
       "      <td>font td td</td>\n",
       "      <td>2981</td>\n",
       "    </tr>\n",
       "    <tr>\n",
       "      <th>20</th>\n",
       "      <td>td tr tr</td>\n",
       "      <td>2938</td>\n",
       "    </tr>\n",
       "    <tr>\n",
       "      <th>21</th>\n",
       "      <td>class align right</td>\n",
       "      <td>2810</td>\n",
       "    </tr>\n",
       "    <tr>\n",
       "      <th>22</th>\n",
       "      <td>trans type final</td>\n",
       "      <td>2761</td>\n",
       "    </tr>\n",
       "    <tr>\n",
       "      <th>23</th>\n",
       "      <td>font size font</td>\n",
       "      <td>2754</td>\n",
       "    </tr>\n",
       "    <tr>\n",
       "      <th>24</th>\n",
       "      <td>td td align</td>\n",
       "      <td>2715</td>\n",
       "    </tr>\n",
       "    <tr>\n",
       "      <th>25</th>\n",
       "      <td>mkt type trans</td>\n",
       "      <td>2582</td>\n",
       "    </tr>\n",
       "    <tr>\n",
       "      <th>26</th>\n",
       "      <td>type trans date</td>\n",
       "      <td>2582</td>\n",
       "    </tr>\n",
       "    <tr>\n",
       "      <th>27</th>\n",
       "      <td>ect cc subject</td>\n",
       "      <td>2344</td>\n",
       "    </tr>\n",
       "    <tr>\n",
       "      <th>28</th>\n",
       "      <td>type final sc</td>\n",
       "      <td>2264</td>\n",
       "    </tr>\n",
       "    <tr>\n",
       "      <th>29</th>\n",
       "      <td>final sc id</td>\n",
       "      <td>2264</td>\n",
       "    </tr>\n",
       "    <tr>\n",
       "      <th>30</th>\n",
       "      <td>elink script players</td>\n",
       "      <td>2232</td>\n",
       "    </tr>\n",
       "    <tr>\n",
       "      <th>31</th>\n",
       "      <td>script players league</td>\n",
       "      <td>2230</td>\n",
       "    </tr>\n",
       "    <tr>\n",
       "      <th>32</th>\n",
       "      <td>align right td</td>\n",
       "      <td>2187</td>\n",
       "    </tr>\n",
       "    <tr>\n",
       "      <th>33</th>\n",
       "      <td>br href http</td>\n",
       "      <td>2107</td>\n",
       "    </tr>\n",
       "    <tr>\n",
       "      <th>34</th>\n",
       "      <td>sc id epmi</td>\n",
       "      <td>2042</td>\n",
       "    </tr>\n",
       "    <tr>\n",
       "      <th>35</th>\n",
       "      <td>lon ect ect</td>\n",
       "      <td>1990</td>\n",
       "    </tr>\n",
       "    <tr>\n",
       "      <th>36</th>\n",
       "      <td>br font face</td>\n",
       "      <td>1910</td>\n",
       "    </tr>\n",
       "    <tr>\n",
       "      <th>37</th>\n",
       "      <td>font br br</td>\n",
       "      <td>1905</td>\n",
       "    </tr>\n",
       "    <tr>\n",
       "      <th>38</th>\n",
       "      <td>href http www</td>\n",
       "      <td>1899</td>\n",
       "    </tr>\n",
       "    <tr>\n",
       "      <th>39</th>\n",
       "      <td>sched type engy</td>\n",
       "      <td>1897</td>\n",
       "    </tr>\n",
       "    <tr>\n",
       "      <th>40</th>\n",
       "      <td>type engy purch</td>\n",
       "      <td>1897</td>\n",
       "    </tr>\n",
       "    <tr>\n",
       "      <th>41</th>\n",
       "      <td>engy purch sale</td>\n",
       "      <td>1897</td>\n",
       "    </tr>\n",
       "    <tr>\n",
       "      <th>42</th>\n",
       "      <td>font br font</td>\n",
       "      <td>1865</td>\n",
       "    </tr>\n",
       "    <tr>\n",
       "      <th>43</th>\n",
       "      <td>arial helvetica font</td>\n",
       "      <td>1858</td>\n",
       "    </tr>\n",
       "    <tr>\n",
       "      <th>44</th>\n",
       "      <td>br br href</td>\n",
       "      <td>1840</td>\n",
       "    </tr>\n",
       "    <tr>\n",
       "      <th>45</th>\n",
       "      <td>id epmi mkt</td>\n",
       "      <td>1793</td>\n",
       "    </tr>\n",
       "    <tr>\n",
       "      <th>46</th>\n",
       "      <td>epmi mkt type</td>\n",
       "      <td>1793</td>\n",
       "    </tr>\n",
       "    <tr>\n",
       "      <th>47</th>\n",
       "      <td>trans date trading</td>\n",
       "      <td>1793</td>\n",
       "    </tr>\n",
       "    <tr>\n",
       "      <th>48</th>\n",
       "      <td>date trading sc</td>\n",
       "      <td>1793</td>\n",
       "    </tr>\n",
       "    <tr>\n",
       "      <th>49</th>\n",
       "      <td>pnt intrc sched</td>\n",
       "      <td>1793</td>\n",
       "    </tr>\n",
       "  </tbody>\n",
       "</table>\n",
       "</div>"
      ],
      "text/plain": [
       "                  Tri-grams   Freq\n",
       "0               hou ect ect  15885\n",
       "1          et excelr excelr   4890\n",
       "2               td td class   4769\n",
       "3            td class align   3985\n",
       "4        corp excelr excelr   3851\n",
       "5    fantasy sportsline com   3773\n",
       "6   http fantasy sportsline   3770\n",
       "7              www fool com   3686\n",
       "8             http www fool   3685\n",
       "9         sportsline com mp   3651\n",
       "10          font face arial   3504\n",
       "11             fool com asp   3459\n",
       "12             com mp elink   3414\n",
       "13          mp elink script   3414\n",
       "14               ect ect cc   3391\n",
       "15         owner random key   3235\n",
       "16     face arial helvetica   3210\n",
       "17        href http fantasy   3170\n",
       "18         na excelr excelr   3085\n",
       "19               font td td   2981\n",
       "20                 td tr tr   2938\n",
       "21        class align right   2810\n",
       "22         trans type final   2761\n",
       "23           font size font   2754\n",
       "24              td td align   2715\n",
       "25           mkt type trans   2582\n",
       "26          type trans date   2582\n",
       "27           ect cc subject   2344\n",
       "28            type final sc   2264\n",
       "29              final sc id   2264\n",
       "30     elink script players   2232\n",
       "31    script players league   2230\n",
       "32           align right td   2187\n",
       "33             br href http   2107\n",
       "34               sc id epmi   2042\n",
       "35              lon ect ect   1990\n",
       "36             br font face   1910\n",
       "37               font br br   1905\n",
       "38            href http www   1899\n",
       "39          sched type engy   1897\n",
       "40          type engy purch   1897\n",
       "41          engy purch sale   1897\n",
       "42             font br font   1865\n",
       "43     arial helvetica font   1858\n",
       "44               br br href   1840\n",
       "45              id epmi mkt   1793\n",
       "46            epmi mkt type   1793\n",
       "47       trans date trading   1793\n",
       "48          date trading sc   1793\n",
       "49          pnt intrc sched   1793"
      ]
     },
     "execution_count": 55,
     "metadata": {},
     "output_type": "execute_result"
    }
   ],
   "source": [
    "top3_words=get_top_n3_words(em['content'],n=200)\n",
    "top3_df=pd.DataFrame(top3_words)\n",
    "top3_df.columns=['Tri-grams','Freq']\n",
    "top3_df.head(50)"
   ]
  },
  {
   "cell_type": "code",
   "execution_count": 56,
   "id": "7ead98e6",
   "metadata": {},
   "outputs": [
    {
     "data": {
      "image/png": "[encoded data removed]",
      "text/plain": [
       "<Figure size 1000x500 with 1 Axes>"
      ]
     },
     "metadata": {},
     "output_type": "display_data"
    }
   ],
   "source": [
    "# Tri-gram plot\n",
    "\n",
    "top20_trigram=top3_df.iloc[0:20,:]\n",
    "fig=plt.figure(figsize=(10,5))\n",
    "plot=sns.barplot(x=top20_trigram['Tri-grams'],y=top20_trigram['Freq'])\n",
    "plot.set_xticklabels(rotation=45,labels=top20_trigram['Tri-grams'])\n",
    "plt.show()"
   ]
  },
  {
   "cell_type": "markdown",
   "id": "f50d4549",
   "metadata": {},
   "source": [
    "# BOW word_count_matrix"
   ]
  },
  {
   "cell_type": "code",
   "execution_count": 35,
   "id": "6f72650f",
   "metadata": {},
   "outputs": [],
   "source": [
    "def split_into_words(i):\n",
    "    return (i.split(' '))"
   ]
  },
  {
   "cell_type": "code",
   "execution_count": 36,
   "id": "8cfe16dc",
   "metadata": {},
   "outputs": [],
   "source": [
    "from sklearn.feature_extraction.text import CountVectorizer\n",
    "\n",
    "# Preparing email texts into bow word count matrix format \n",
    "email_bow=CountVectorizer(analyzer=split_into_words).fit(em.content)"
   ]
  },
  {
   "cell_type": "code",
   "execution_count": 37,
   "id": "14fd935d",
   "metadata": {},
   "outputs": [
    {
     "data": {
      "text/plain": [
       "(26424, 85997)"
      ]
     },
     "execution_count": 37,
     "metadata": {},
     "output_type": "execute_result"
    }
   ],
   "source": [
    "# For all messages\n",
    "all_emails_matrix=email_bow.transform(em.content)\n",
    "all_emails_matrix.shape"
   ]
  },
  {
   "cell_type": "markdown",
   "id": "70c45234",
   "metadata": {},
   "source": [
    "# TFIDF tokenizer"
   ]
  },
  {
   "cell_type": "code",
   "execution_count": 38,
   "id": "34397820",
   "metadata": {},
   "outputs": [],
   "source": [
    "# Learning Term weighting and normalizing on entire emails\n",
    "tfidf_transformer=TfidfTransformer().fit(all_emails_matrix)"
   ]
  },
  {
   "cell_type": "code",
   "execution_count": 39,
   "id": "8019501b",
   "metadata": {},
   "outputs": [
    {
     "data": {
      "text/plain": [
       "(26424, 85997)"
      ]
     },
     "execution_count": 39,
     "metadata": {},
     "output_type": "execute_result"
    }
   ],
   "source": [
    "# Preparing TFIDF for all emails\n",
    "all_emails_tfidf=tfidf_transformer.transform(all_emails_matrix)\n",
    "all_emails_tfidf.shape"
   ]
  },
  {
   "cell_type": "markdown",
   "id": "73a50cdb",
   "metadata": {},
   "source": [
    "# Label Encoding "
   ]
  },
  {
   "cell_type": "code",
   "execution_count": 40,
   "id": "0838bcb1",
   "metadata": {},
   "outputs": [
    {
     "data": {
      "text/plain": [
       "Class\n",
       "1    23014\n",
       "0     3410\n",
       "Name: count, dtype: int64"
      ]
     },
     "execution_count": 40,
     "metadata": {},
     "output_type": "execute_result"
    }
   ],
   "source": [
    "from sklearn import preprocessing\n",
    "\n",
    "# label_encoder object knows how to understand word labels\n",
    "\n",
    "le = preprocessing.LabelEncoder()\n",
    "  \n",
    "em['Class']= le.fit_transform(em['Class']) \n",
    "\n",
    "em['Class'].value_counts()"
   ]
  },
  {
   "cell_type": "markdown",
   "id": "6a6a217a",
   "metadata": {},
   "source": [
    "# Model Building"
   ]
  },
  {
   "cell_type": "code",
   "execution_count": 41,
   "id": "1a255698",
   "metadata": {},
   "outputs": [],
   "source": [
    "from sklearn.model_selection import train_test_split\n",
    "x_train,x_test,y_train,y_test=train_test_split(all_emails_tfidf,em['Class'],test_size=0.3,random_state=42)"
   ]
  },
  {
   "cell_type": "code",
   "execution_count": 42,
   "id": "521f6b6a",
   "metadata": {},
   "outputs": [
    {
     "data": {
      "text/plain": [
       "((18496, 85997), (7928, 85997), (18496,), (7928,))"
      ]
     },
     "execution_count": 42,
     "metadata": {},
     "output_type": "execute_result"
    }
   ],
   "source": [
    "x_train.shape,x_test.shape,y_train.shape,y_test.shape"
   ]
  },
  {
   "cell_type": "markdown",
   "id": "f8371083",
   "metadata": {},
   "source": [
    "# Data Balancing using SMOTE"
   ]
  },
  {
   "cell_type": "code",
   "execution_count": 43,
   "id": "2f54c2b9",
   "metadata": {},
   "outputs": [],
   "source": [
    "from imblearn.over_sampling import SMOTE\n",
    "from imblearn.under_sampling import RandomUnderSampler"
   ]
  },
  {
   "cell_type": "code",
   "execution_count": 44,
   "id": "7f857a32",
   "metadata": {},
   "outputs": [
    {
     "data": {
      "text/plain": [
       "((32180, 85997), (32180,))"
      ]
     },
     "execution_count": 44,
     "metadata": {},
     "output_type": "execute_result"
    }
   ],
   "source": [
    "oversample = SMOTE(random_state=42)\n",
    "\n",
    "# transform the dataset\n",
    "x_train_os,y_train_os=oversample.fit_resample(x_train,y_train)\n",
    "\n",
    "x_train_os.shape,y_train_os.shape"
   ]
  },
  {
   "cell_type": "code",
   "execution_count": 45,
   "id": "93194737",
   "metadata": {},
   "outputs": [
    {
     "data": {
      "text/plain": [
       "((32180, 85997), (32180,))"
      ]
     },
     "execution_count": 45,
     "metadata": {},
     "output_type": "execute_result"
    }
   ],
   "source": [
    "# 2. Undersampling\n",
    "\n",
    "undersample=RandomUnderSampler(random_state=42)\n",
    "\n",
    "# transform the dataset\n",
    "x_train_s,y_train_s=undersample.fit_resample(x_train_os,y_train_os)\n",
    "\n",
    "x_train_s.shape,y_train_s.shape"
   ]
  },
  {
   "cell_type": "markdown",
   "id": "95c36ea0",
   "metadata": {},
   "source": [
    "# 1. Multinomial Naive Bayes Classifier Algorithm"
   ]
  },
  {
   "cell_type": "code",
   "execution_count": 69,
   "id": "7f4a2186",
   "metadata": {},
   "outputs": [
    {
     "name": "stdout",
     "output_type": "stream",
     "text": [
      "accuracy_train_mnb: 0.968614045991299\n",
      "accuracy_test_mnb: 0.9463925327951564\n"
     ]
    }
   ],
   "source": [
    "from sklearn.naive_bayes import MultinomialNB as MB\n",
    "classifier_mnb=MB()\n",
    "model_mnb=classifier_mnb.fit(x_train_s,y_train_s)\n",
    "\n",
    "train_pred_mnb=model_mnb.predict(x_train_s)\n",
    "accuracy_train_mnb=np.mean(train_pred_mnb==y_train_s)\n",
    "print('accuracy_train_mnb:',accuracy_train_mnb)\n",
    "\n",
    "test_pred_mnb=model_mnb.predict(x_test)\n",
    "accuracy_test_mnb=np.mean(test_pred_mnb==y_test)\n",
    "print('accuracy_test_mnb:',accuracy_test_mnb)"
   ]
  },
  {
   "cell_type": "code",
   "execution_count": 70,
   "id": "abe62364",
   "metadata": {},
   "outputs": [
    {
     "name": "stdout",
     "output_type": "stream",
     "text": [
      "              precision    recall  f1-score   support\n",
      "\n",
      "           0       0.72      0.93      0.81      1004\n",
      "           1       0.99      0.95      0.97      6924\n",
      "\n",
      "    accuracy                           0.95      7928\n",
      "   macro avg       0.86      0.94      0.89      7928\n",
      "weighted avg       0.96      0.95      0.95      7928\n",
      "\n"
     ]
    }
   ],
   "source": [
    "from sklearn.metrics import classification_report\n",
    "\n",
    "# print classification report\n",
    "print(classification_report(y_test,test_pred_mnb))"
   ]
  },
  {
   "cell_type": "markdown",
   "id": "312b7524",
   "metadata": {},
   "source": [
    "# 2. Support Vector Machines Classifier Algorithm"
   ]
  },
  {
   "cell_type": "code",
   "execution_count": 71,
   "id": "79ad94f9",
   "metadata": {},
   "outputs": [],
   "source": [
    "from sklearn.svm import SVC\n",
    "from sklearn.metrics import classification_report"
   ]
  },
  {
   "cell_type": "code",
   "execution_count": 72,
   "id": "2cb08a46",
   "metadata": {},
   "outputs": [
    {
     "name": "stdout",
     "output_type": "stream",
     "text": [
      "accuracy_train_svm: 0.9988502175264139\n",
      "accuracy_test_svm: 0.9877648839556004\n"
     ]
    }
   ],
   "source": [
    "SVM = SVC(C=1.0, kernel='linear', degree=3 , gamma='auto')\n",
    "model_svm=SVM.fit(x_train_s,y_train_s)\n",
    "\n",
    "train_pred_svm=model_svm.predict(x_train_s)\n",
    "accuracy_train_svm=np.mean(train_pred_svm==y_train_s)\n",
    "print('accuracy_train_svm:',accuracy_train_svm)\n",
    "\n",
    "test_pred_svm=model_svm.predict(x_test)\n",
    "accuracy_test_svm=np.mean(test_pred_svm==y_test)\n",
    "print('accuracy_test_svm:',accuracy_test_svm)"
   ]
  },
  {
   "cell_type": "code",
   "execution_count": 73,
   "id": "0acff77e",
   "metadata": {},
   "outputs": [
    {
     "name": "stdout",
     "output_type": "stream",
     "text": [
      "              precision    recall  f1-score   support\n",
      "\n",
      "           0       0.95      0.96      0.95      1004\n",
      "           1       0.99      0.99      0.99      6924\n",
      "\n",
      "    accuracy                           0.99      7928\n",
      "   macro avg       0.97      0.97      0.97      7928\n",
      "weighted avg       0.99      0.99      0.99      7928\n",
      "\n"
     ]
    }
   ],
   "source": [
    "# print classification report\n",
    "print(classification_report(y_test,test_pred_svm))"
   ]
  },
  {
   "cell_type": "markdown",
   "id": "3a1a397e",
   "metadata": {},
   "source": [
    "# 3. Logistic Regression Classifier Algorithm"
   ]
  },
  {
   "cell_type": "code",
   "execution_count": 46,
   "id": "31f7d09b",
   "metadata": {},
   "outputs": [],
   "source": [
    "from sklearn.linear_model import LogisticRegression\n",
    "from sklearn.metrics import classification_report"
   ]
  },
  {
   "cell_type": "code",
   "execution_count": 47,
   "id": "4bc74a77",
   "metadata": {},
   "outputs": [
    {
     "name": "stdout",
     "output_type": "stream",
     "text": [
      "accuracy_train_log: 0.9942821628340585\n",
      "accuracy_test_log: 0.9803229061553986\n"
     ]
    }
   ],
   "source": [
    "log = LogisticRegression()\n",
    "\n",
    "model_log=log.fit(x_train_s,y_train_s)\n",
    "\n",
    "train_pred_log=model_log.predict(x_train_s)\n",
    "accuracy_train_log=np.mean(train_pred_log==y_train_s)\n",
    "print('accuracy_train_log:',accuracy_train_log)\n",
    "\n",
    "test_pred_log=model_log.predict(x_test)\n",
    "accuracy_test_log=np.mean(test_pred_log==y_test)\n",
    "print('accuracy_test_log:',accuracy_test_log)"
   ]
  },
  {
   "cell_type": "code",
   "execution_count": 48,
   "id": "6105062e",
   "metadata": {},
   "outputs": [
    {
     "name": "stdout",
     "output_type": "stream",
     "text": [
      "              precision    recall  f1-score   support\n",
      "\n",
      "           0       0.89      0.96      0.93      1004\n",
      "           1       0.99      0.98      0.99      6924\n",
      "\n",
      "    accuracy                           0.98      7928\n",
      "   macro avg       0.94      0.97      0.96      7928\n",
      "weighted avg       0.98      0.98      0.98      7928\n",
      "\n"
     ]
    }
   ],
   "source": [
    "# print classification report\n",
    "print(classification_report(y_test,test_pred_log))"
   ]
  },
  {
   "cell_type": "markdown",
   "id": "ac943401",
   "metadata": {},
   "source": [
    "# 4. Decision Tree Classsifer"
   ]
  },
  {
   "cell_type": "code",
   "execution_count": 77,
   "id": "57047cb7",
   "metadata": {},
   "outputs": [],
   "source": [
    "from sklearn.tree import DecisionTreeClassifier\n",
    "from sklearn.metrics import classification_report"
   ]
  },
  {
   "cell_type": "code",
   "execution_count": 78,
   "id": "9b208c62",
   "metadata": {},
   "outputs": [
    {
     "name": "stdout",
     "output_type": "stream",
     "text": [
      "accuracy_train_dtc: 0.6969235550031075\n",
      "accuracy_test_dtc: 0.5425075681130171\n"
     ]
    }
   ],
   "source": [
    "model_gini = DecisionTreeClassifier(criterion='gini', max_depth=3) \n",
    "\n",
    "model_dtc=model_gini.fit(x_train_s,y_train_s)\n",
    "train_pred_dtc=model_dtc.predict(x_train_s)\n",
    "accuracy_train_dtc=np.mean(train_pred_dtc==y_train_s)\n",
    "print('accuracy_train_dtc:',accuracy_train_dtc)\n",
    "\n",
    "test_pred_dtc=model_dtc.predict(x_test)\n",
    "accuracy_test_dtc=np.mean(test_pred_dtc==y_test)\n",
    "print('accuracy_test_dtc:',accuracy_test_dtc)"
   ]
  },
  {
   "cell_type": "code",
   "execution_count": 79,
   "id": "b0adb2c4",
   "metadata": {},
   "outputs": [
    {
     "name": "stdout",
     "output_type": "stream",
     "text": [
      "              precision    recall  f1-score   support\n",
      "\n",
      "           0       0.21      0.91      0.34      1004\n",
      "           1       0.97      0.49      0.65      6924\n",
      "\n",
      "    accuracy                           0.54      7928\n",
      "   macro avg       0.59      0.70      0.49      7928\n",
      "weighted avg       0.88      0.54      0.61      7928\n",
      "\n"
     ]
    }
   ],
   "source": [
    "# print classification report\n",
    "print(classification_report(y_test,test_pred_dtc))"
   ]
  },
  {
   "cell_type": "markdown",
   "id": "dba3ee72",
   "metadata": {},
   "source": [
    "# 5. Random Forest Classsifer"
   ]
  },
  {
   "cell_type": "code",
   "execution_count": 80,
   "id": "84678749",
   "metadata": {},
   "outputs": [],
   "source": [
    "from sklearn.ensemble import RandomForestClassifier\n",
    "from sklearn.metrics import classification_report\n"
   ]
  },
  {
   "cell_type": "code",
   "execution_count": 81,
   "id": "d15ea6bc",
   "metadata": {},
   "outputs": [
    {
     "name": "stdout",
     "output_type": "stream",
     "text": [
      "accuracy_train_rfc: 1.0\n",
      "accuracy_test_rfc: 0.9794399596367306\n"
     ]
    }
   ],
   "source": [
    "num_trees=55 # default max trees=100\n",
    "model=RandomForestClassifier(n_estimators=num_trees,max_features=2,random_state=0)\n",
    "\n",
    "model_rfc=model.fit(x_train_s,y_train_s)\n",
    "train_pred_rfc=model_rfc.predict(x_train_s)\n",
    "accuracy_train_rfc=np.mean(train_pred_rfc==y_train_s)\n",
    "print('accuracy_train_rfc:',accuracy_train_rfc)\n",
    "\n",
    "test_pred_rfc=model_rfc.predict(x_test)\n",
    "accuracy_test_rfc=np.mean(test_pred_rfc==y_test)\n",
    "print('accuracy_test_rfc:',accuracy_test_rfc)\n"
   ]
  },
  {
   "cell_type": "code",
   "execution_count": 82,
   "id": "c9993e4f",
   "metadata": {},
   "outputs": [
    {
     "name": "stdout",
     "output_type": "stream",
     "text": [
      "              precision    recall  f1-score   support\n",
      "\n",
      "           0       0.99      0.85      0.91      1004\n",
      "           1       0.98      1.00      0.99      6924\n",
      "\n",
      "    accuracy                           0.98      7928\n",
      "   macro avg       0.98      0.92      0.95      7928\n",
      "weighted avg       0.98      0.98      0.98      7928\n",
      "\n"
     ]
    }
   ],
   "source": [
    "# print classification report\n",
    "print(classification_report(y_test,test_pred_rfc))"
   ]
  },
  {
   "cell_type": "markdown",
   "id": "881b019b",
   "metadata": {},
   "source": [
    "# 6.XGBooster"
   ]
  },
  {
   "cell_type": "code",
   "execution_count": 83,
   "id": "7d959d22",
   "metadata": {},
   "outputs": [],
   "source": [
    "from xgboost import XGBClassifier\n",
    "from numpy import loadtxt\n",
    "from sklearn.metrics import classification_report"
   ]
  },
  {
   "cell_type": "code",
   "execution_count": 84,
   "id": "a98571a2",
   "metadata": {},
   "outputs": [
    {
     "name": "stdout",
     "output_type": "stream",
     "text": [
      "accuracy_train_XGB: 0.9574580484773151\n",
      "accuracy_test_XGB: 0.9364278506559032\n"
     ]
    }
   ],
   "source": [
    "# fit model no training data\n",
    "model_XGB = XGBClassifier(n_estimators=90,max_depth=3)\n",
    "model_XGB.fit(x_train_s,y_train_s)\n",
    "train_pred_XGB=model_XGB.predict(x_train_s)\n",
    "accuracy_train_XGB=np.mean(train_pred_XGB==y_train_s)\n",
    "\n",
    "print('accuracy_train_XGB:',accuracy_train_XGB)\n",
    "\n",
    "test_pred_XGB=model_XGB.predict(x_test)\n",
    "accuracy_test_XGB=np.mean(test_pred_XGB==y_test)\n",
    "print('accuracy_test_XGB:',accuracy_test_XGB)\n"
   ]
  },
  {
   "cell_type": "code",
   "execution_count": 85,
   "id": "6c42e533",
   "metadata": {},
   "outputs": [
    {
     "name": "stdout",
     "output_type": "stream",
     "text": [
      "              precision    recall  f1-score   support\n",
      "\n",
      "           0       0.68      0.93      0.79      1004\n",
      "           1       0.99      0.94      0.96      6924\n",
      "\n",
      "    accuracy                           0.94      7928\n",
      "   macro avg       0.84      0.94      0.88      7928\n",
      "weighted avg       0.95      0.94      0.94      7928\n",
      "\n"
     ]
    }
   ],
   "source": [
    "# print classification report\n",
    "print(classification_report(y_test,test_pred_XGB))"
   ]
  },
  {
   "cell_type": "markdown",
   "id": "caec8801",
   "metadata": {},
   "source": [
    "# Compare the results"
   ]
  },
  {
   "cell_type": "code",
   "execution_count": 86,
   "id": "edebf212",
   "metadata": {},
   "outputs": [
    {
     "data": {
      "text/html": [
       "<div>\n",
       "<style scoped>\n",
       "    .dataframe tbody tr th:only-of-type {\n",
       "        vertical-align: middle;\n",
       "    }\n",
       "\n",
       "    .dataframe tbody tr th {\n",
       "        vertical-align: top;\n",
       "    }\n",
       "\n",
       "    .dataframe thead th {\n",
       "        text-align: right;\n",
       "    }\n",
       "</style>\n",
       "<table border=\"1\" class=\"dataframe\">\n",
       "  <thead>\n",
       "    <tr style=\"text-align: right;\">\n",
       "      <th></th>\n",
       "      <th>Model</th>\n",
       "      <th>Train Accuracy</th>\n",
       "      <th>Test Accuracy</th>\n",
       "    </tr>\n",
       "  </thead>\n",
       "  <tbody>\n",
       "    <tr>\n",
       "      <th>0</th>\n",
       "      <td>SVM_SVC</td>\n",
       "      <td>0.998850</td>\n",
       "      <td>0.987765</td>\n",
       "    </tr>\n",
       "    <tr>\n",
       "      <th>1</th>\n",
       "      <td>Logistic_Reg_C</td>\n",
       "      <td>0.994282</td>\n",
       "      <td>0.980323</td>\n",
       "    </tr>\n",
       "    <tr>\n",
       "      <th>2</th>\n",
       "      <td>Random_Forest_C</td>\n",
       "      <td>1.000000</td>\n",
       "      <td>0.979440</td>\n",
       "    </tr>\n",
       "    <tr>\n",
       "      <th>3</th>\n",
       "      <td>Multinomial_NBC</td>\n",
       "      <td>0.968614</td>\n",
       "      <td>0.946393</td>\n",
       "    </tr>\n",
       "    <tr>\n",
       "      <th>4</th>\n",
       "      <td>XGBooster_C</td>\n",
       "      <td>0.957458</td>\n",
       "      <td>0.936428</td>\n",
       "    </tr>\n",
       "    <tr>\n",
       "      <th>5</th>\n",
       "      <td>Decision_Tree_C</td>\n",
       "      <td>0.696924</td>\n",
       "      <td>0.542508</td>\n",
       "    </tr>\n",
       "  </tbody>\n",
       "</table>\n",
       "</div>"
      ],
      "text/plain": [
       "             Model  Train Accuracy  Test Accuracy\n",
       "0          SVM_SVC        0.998850       0.987765\n",
       "1   Logistic_Reg_C        0.994282       0.980323\n",
       "2  Random_Forest_C        1.000000       0.979440\n",
       "3  Multinomial_NBC        0.968614       0.946393\n",
       "4      XGBooster_C        0.957458       0.936428\n",
       "5  Decision_Tree_C        0.696924       0.542508"
      ]
     },
     "execution_count": 86,
     "metadata": {},
     "output_type": "execute_result"
    }
   ],
   "source": [
    "data={'Model':pd.Series(['Multinomial_NBC','SVM_SVC','Logistic_Reg_C','Decision_Tree_C','Random_Forest_C','XGBooster_C']),\n",
    "    'Train Accuracy' : pd.Series([accuracy_train_mnb,accuracy_train_svm,accuracy_train_log,accuracy_train_dtc,accuracy_train_rfc,accuracy_train_XGB]),\n",
    "    'Test Accuracy':pd.Series([accuracy_test_mnb,accuracy_test_svm,accuracy_test_log,accuracy_test_dtc,accuracy_test_rfc,accuracy_test_XGB])}\n",
    "accuracy_table=pd.DataFrame(data)\n",
    "accuracy_table.sort_values('Test Accuracy',ascending=False).reset_index(drop=True)"
   ]
  },
  {
   "cell_type": "markdown",
   "id": "1ff2c40f",
   "metadata": {},
   "source": [
    "# Building the LSTM model"
   ]
  },
  {
   "cell_type": "code",
   "execution_count": 32,
   "id": "45c2acaa",
   "metadata": {},
   "outputs": [],
   "source": [
    "from tensorflow.keras.preprocessing.text import one_hot\n",
    "import tensorflow as tf\n",
    "from tensorflow.keras.layers import Embedding\n",
    "from tensorflow.keras.preprocessing.sequence import pad_sequences\n",
    "from tensorflow.keras.models import Sequential\n",
    "from tensorflow.keras.preprocessing.text import one_hot\n",
    "from tensorflow.keras.layers import LSTM\n",
    "from tensorflow.keras.layers import Dense\n",
    "from tensorflow.keras.layers import Bidirectional\n",
    "from tensorflow.keras.layers import Dropout"
   ]
  },
  {
   "cell_type": "code",
   "execution_count": 33,
   "id": "d1d4f6b4",
   "metadata": {},
   "outputs": [
    {
     "data": {
      "text/plain": [
       "array([   0,    0,    0,    0,    0,    0,    0,    0,    0,    0,    0,\n",
       "          0,    0,    0,    0,    0,    0,    0,    0,    0,    0,    0,\n",
       "          0,    0,    0,    0,    0,    0,    0,    0,    0,    0,    0,\n",
       "          0,    0,    0,    0,    0,    0,    0,    0,    0,    0,    0,\n",
       "          0,    0,    0,    0,    0,    0,    0,    0,    0,    0,    0,\n",
       "          0,    0,    0,    0,    0,    0,    0,    0,    0,    0,    0,\n",
       "          0,    0,    0,    0,    0,    0,    0,    0,    0,    0,    0,\n",
       "          0,    0,    0,    0,    0,    0,    0,    0,    0,    0,    0,\n",
       "          0,    0,    0,    0,    0,    0,    0,    0,    0,    0,    0,\n",
       "          0,    0,    0,    0,    0,    0,    0,    0,    0,    0,    0,\n",
       "          0,    0,    0,    0,    0,    0,    0,    0,    0,    0,    0,\n",
       "          0,    0,    0,    0,    0,    0,    0,    0,    0,    0,    0,\n",
       "          0,    0,    0,    0,    0,    0,    0,    0,    0,    0,    0,\n",
       "          0,    0,    0,    0,    0,    0,    0, 4764, 3689,  731,   56,\n",
       "       1846,  943, 3309, 3439, 4336,   57,   57, 1964, 2128,  731, 2904,\n",
       "       1665, 2455, 2455, 3275,  114, 4216, 4873,  585,  617, 3575, 2021,\n",
       "       3274,  148,  592, 3274, 1043, 2673, 3063, 3531, 3274, 1980, 2673,\n",
       "       3322,  594, 4084,  791,  922, 2021, 3274, 4354, 2673, 3274, 4965,\n",
       "       3496, 3274])"
      ]
     },
     "execution_count": 33,
     "metadata": {},
     "output_type": "execute_result"
    }
   ],
   "source": [
    "corpus = em[\"content\"].to_list()\n",
    "len(corpus)\n",
    "voc_size=5000\n",
    "\n",
    "onehot_repr = [one_hot(words, voc_size) for words in corpus]\n",
    "sent_length = 200\n",
    "embedding_docs = pad_sequences(onehot_repr, padding='pre', maxlen=sent_length)\n",
    "embedding_docs[0]"
   ]
  },
  {
   "cell_type": "code",
   "execution_count": 34,
   "id": "dcf82ebb",
   "metadata": {},
   "outputs": [
    {
     "data": {
      "text/plain": [
       "26424"
      ]
     },
     "execution_count": 34,
     "metadata": {},
     "output_type": "execute_result"
    }
   ],
   "source": [
    "len(embedding_docs)"
   ]
  },
  {
   "cell_type": "code",
   "execution_count": 35,
   "id": "3622a2b1",
   "metadata": {},
   "outputs": [
    {
     "name": "stdout",
     "output_type": "stream",
     "text": [
      "Model: \"sequential\"\n",
      "_________________________________________________________________\n",
      " Layer (type)                Output Shape              Param #   \n",
      "=================================================================\n",
      " embedding (Embedding)       (None, 50, 100)           500000    \n",
      "                                                                 \n",
      " bidirectional (Bidirection  (None, 200)               160800    \n",
      " al)                                                             \n",
      "                                                                 \n",
      " dense (Dense)               (None, 1)                 201       \n",
      "                                                                 \n",
      "=================================================================\n",
      "Total params: 661001 (2.52 MB)\n",
      "Trainable params: 661001 (2.52 MB)\n",
      "Non-trainable params: 0 (0.00 Byte)\n",
      "_________________________________________________________________\n",
      "Epoch 1/2\n",
      "250/250 [==============================] - 46s 172ms/step - loss: 0.4853 - accuracy: 0.7579\n",
      "Epoch 2/2\n",
      "250/250 [==============================] - 43s 170ms/step - loss: 0.3623 - accuracy: 0.8434\n",
      "Accuracy: 81.42%\n"
     ]
    }
   ],
   "source": [
    "from keras.datasets import imdb\n",
    "top_words = 5000\n",
    "(x_train_s,y_train_s), (X_test, y_test) = imdb.load_data(num_words=top_words)\n",
    "\n",
    "max_review_length = 50\n",
    "X_train = pad_sequences(x_train_s, maxlen=max_review_length)\n",
    "X_test = pad_sequences(X_test, maxlen=max_review_length)\n",
    "\n",
    "# create the model\n",
    "embedding_vecor_length = 100\n",
    "model_lstm = Sequential()\n",
    "model_lstm.add(Embedding(top_words, embedding_vecor_length, input_length=max_review_length))\n",
    "model_lstm.add(Bidirectional(LSTM(100)))\n",
    "model_lstm.add(Dense(1, activation='sigmoid'))\n",
    "model_lstm.compile(loss='binary_crossentropy', optimizer='adam', metrics=['accuracy'])\n",
    "model_lstm.summary()\n",
    "model_lstm.fit(X_train, y_train_s, epochs=2, batch_size=100)\n",
    "# Final evaluation of the model\n",
    "scores = model_lstm.evaluate(X_test, y_test, verbose=0)\n",
    "print(\"Accuracy: %.2f%%\" % (scores[1]*100))"
   ]
  },
  {
   "cell_type": "code",
   "execution_count": null,
   "id": "bb503f95",
   "metadata": {},
   "outputs": [],
   "source": []
  },
  {
   "cell_type": "markdown",
   "id": "4c74da96",
   "metadata": {},
   "source": [
    "# Model Deployment"
   ]
  },
  {
   "cell_type": "code",
   "execution_count": 49,
   "id": "c8b78eb1",
   "metadata": {},
   "outputs": [],
   "source": [
    "# NLP english language model of spacy library\n",
    "import spacy\n",
    "nlp = spacy.load('en_core_web_sm',disable=['parser', 'ner'])"
   ]
  },
  {
   "cell_type": "code",
   "execution_count": 50,
   "id": "c7190051",
   "metadata": {},
   "outputs": [
    {
     "name": "stderr",
     "output_type": "stream",
     "text": [
      "[nltk_data] Downloading package punkt to\n",
      "[nltk_data]     C:\\Users\\DELL\\AppData\\Roaming\\nltk_data...\n",
      "[nltk_data]   Package punkt is already up-to-date!\n"
     ]
    },
    {
     "data": {
      "text/plain": [
       "True"
      ]
     },
     "execution_count": 50,
     "metadata": {},
     "output_type": "execute_result"
    }
   ],
   "source": [
    "#Tokenization\n",
    "import nltk\n",
    "nltk.download('punkt')"
   ]
  },
  {
   "cell_type": "code",
   "execution_count": 51,
   "id": "70d53e86",
   "metadata": {},
   "outputs": [
    {
     "data": {
      "text/html": [
       "<div>\n",
       "<style scoped>\n",
       "    .dataframe tbody tr th:only-of-type {\n",
       "        vertical-align: middle;\n",
       "    }\n",
       "\n",
       "    .dataframe tbody tr th {\n",
       "        vertical-align: top;\n",
       "    }\n",
       "\n",
       "    .dataframe thead th {\n",
       "        text-align: right;\n",
       "    }\n",
       "</style>\n",
       "<table border=\"1\" class=\"dataframe\">\n",
       "  <thead>\n",
       "    <tr style=\"text-align: right;\">\n",
       "      <th></th>\n",
       "      <th>content</th>\n",
       "    </tr>\n",
       "  </thead>\n",
       "  <tbody>\n",
       "    <tr>\n",
       "      <th>0</th>\n",
       "      <td>how are you all... Hope to see u soon and stud...</td>\n",
       "    </tr>\n",
       "  </tbody>\n",
       "</table>\n",
       "</div>"
      ],
      "text/plain": [
       "                                             content\n",
       "0  how are you all... Hope to see u soon and stud..."
      ]
     },
     "execution_count": 51,
     "metadata": {},
     "output_type": "execute_result"
    }
   ],
   "source": [
    "# testing with text\n",
    "str_sentence='how are you all... Hope to see u soon and study together'\n",
    "sentence = pd.DataFrame({'content':str_sentence},index=[0])\n",
    "sentence=sentence.astype('U')\n",
    "sentence"
   ]
  },
  {
   "cell_type": "code",
   "execution_count": 52,
   "id": "bed20fda",
   "metadata": {},
   "outputs": [],
   "source": [
    "def pre_process():\n",
    "\n",
    "    def clean_text(text):\n",
    "        '''Make text lowercase, remove text in square brackets, remove punctuation and remove words containing numbers.'''\n",
    "        text=text.lower()\n",
    "        text=re.sub('\\[.*?\\]',' ',text)\n",
    "        text=re.sub('[%s]'% re.escape(string.punctuation),' ',text)\n",
    "        text=re.sub('\\w*\\d\\w*',' ',text)\n",
    "        text=re.sub('[0-9' ']+',' ',text)\n",
    "        text=re.sub('[''\"\"…]', ' ', text)\n",
    "        text=re.sub('[\\n]', ' ', text)\n",
    "        text=re.sub('[\\s]', ' ', text)\n",
    "        return text\n",
    "\n",
    "    clean = lambda x: clean_text(x)    \n"
   ]
  },
  {
   "cell_type": "code",
   "execution_count": 53,
   "id": "5b6e4c30",
   "metadata": {},
   "outputs": [],
   "source": [
    "clean= lambda x: clean_text(x)    \n"
   ]
  },
  {
   "cell_type": "code",
   "execution_count": 54,
   "id": "587787de",
   "metadata": {},
   "outputs": [
    {
     "data": {
      "text/plain": [
       "0    how are you all    hope to see u soon and stud...\n",
       "Name: content, dtype: object"
      ]
     },
     "execution_count": 54,
     "metadata": {},
     "output_type": "execute_result"
    }
   ],
   "source": [
    "sentence['content']=sentence['content'].apply(clean)\n",
    "sentence['content']"
   ]
  },
  {
   "cell_type": "code",
   "execution_count": 55,
   "id": "1e59b261",
   "metadata": {},
   "outputs": [
    {
     "data": {
      "text/plain": [
       "0    hope see u soon study together\n",
       "Name: content, dtype: object"
      ]
     },
     "execution_count": 55,
     "metadata": {},
     "output_type": "execute_result"
    }
   ],
   "source": [
    "stop_words = set(stopwords.words('english') + ['excelr', 'ect', 'com', 'hou', 'cc', 'td', 'http', 'www', 'font', 'original', 'message','subject', 'fw'])\n",
    "sentence['content'] = sentence['content'].apply(lambda x: \" \".join(term for term in x.split() if term not in stop_words))\n",
    "sentence['content']"
   ]
  },
  {
   "cell_type": "code",
   "execution_count": 56,
   "id": "1a9d4d5d",
   "metadata": {},
   "outputs": [],
   "source": [
    "# Lemmatization"
   ]
  },
  {
   "cell_type": "code",
   "execution_count": 57,
   "id": "c0bd19e5",
   "metadata": {},
   "outputs": [
    {
     "data": {
      "text/plain": [
       "['hope see u soon study together']"
      ]
     },
     "execution_count": 57,
     "metadata": {},
     "output_type": "execute_result"
    }
   ],
   "source": [
    " # remove both the leading and the trailing characters\n",
    "estrip = [content.strip() for content in sentence.content] \n",
    "\n",
    "# removes empty strings, because they are considered in Python as False\n",
    "estrip = [content for content in estrip if content] \n",
    "estrip[0:10]"
   ]
  },
  {
   "cell_type": "code",
   "execution_count": 58,
   "id": "f5ba3510",
   "metadata": {},
   "outputs": [
    {
     "data": {
      "text/plain": [
       "'hope see u soon study together'"
      ]
     },
     "execution_count": 58,
     "metadata": {},
     "output_type": "execute_result"
    }
   ],
   "source": [
    "# Joining the list into one string/text\n",
    "estrip_text=' '.join(estrip)\n",
    "estrip_text"
   ]
  },
  {
   "cell_type": "code",
   "execution_count": 59,
   "id": "34904411",
   "metadata": {},
   "outputs": [
    {
     "data": {
      "text/plain": [
       "'hope see u soon study together'"
      ]
     },
     "execution_count": 59,
     "metadata": {},
     "output_type": "execute_result"
    }
   ],
   "source": [
    "#Punctuation\n",
    "no_punc_text = estrip_text.translate(str.maketrans('', '', string.punctuation)) \n",
    "no_punc_text"
   ]
  },
  {
   "cell_type": "code",
   "execution_count": 60,
   "id": "3381ad49",
   "metadata": {},
   "outputs": [
    {
     "name": "stdout",
     "output_type": "stream",
     "text": [
      "['hope', 'see', 'u', 'soon', 'study', 'together']\n"
     ]
    }
   ],
   "source": [
    "from nltk.tokenize import word_tokenize\n",
    "text_tokens = word_tokenize(no_punc_text)\n",
    "print(text_tokens[0:50])"
   ]
  },
  {
   "cell_type": "code",
   "execution_count": 61,
   "id": "fc58d067",
   "metadata": {},
   "outputs": [
    {
     "data": {
      "text/plain": [
       "6"
      ]
     },
     "execution_count": 61,
     "metadata": {},
     "output_type": "execute_result"
    }
   ],
   "source": [
    "len(text_tokens)"
   ]
  },
  {
   "cell_type": "code",
   "execution_count": 62,
   "id": "7b695056",
   "metadata": {},
   "outputs": [
    {
     "name": "stdout",
     "output_type": "stream",
     "text": [
      "hope see u soon study together\n"
     ]
    }
   ],
   "source": [
    "# lemmas being one of them, but mostly POS, which will follow later\n",
    "doc = nlp(' '.join(text_tokens))\n",
    "print(doc)"
   ]
  },
  {
   "cell_type": "code",
   "execution_count": 63,
   "id": "90f4404c",
   "metadata": {},
   "outputs": [
    {
     "name": "stdout",
     "output_type": "stream",
     "text": [
      "['hope', 'see', 'u', 'soon', 'study', 'together']\n"
     ]
    }
   ],
   "source": [
    "lemmas = [token.lemma_ for token in doc]\n",
    "print(lemmas)"
   ]
  },
  {
   "cell_type": "code",
   "execution_count": 64,
   "id": "c0cd891e",
   "metadata": {},
   "outputs": [
    {
     "data": {
      "text/plain": [
       "(6, 85997)"
      ]
     },
     "execution_count": 64,
     "metadata": {},
     "output_type": "execute_result"
    }
   ],
   "source": [
    "all_emails_matrix_sent=email_bow.transform(lemmas)\n",
    "all_emails_matrix_sent.shape"
   ]
  },
  {
   "cell_type": "code",
   "execution_count": 65,
   "id": "872cc871",
   "metadata": {},
   "outputs": [],
   "source": [
    "tfidf_transformer_sent=TfidfTransformer().fit(all_emails_matrix_sent)"
   ]
  },
  {
   "cell_type": "code",
   "execution_count": 66,
   "id": "23e4a0c8",
   "metadata": {},
   "outputs": [
    {
     "data": {
      "text/plain": [
       "(6, 85997)"
      ]
     },
     "execution_count": 66,
     "metadata": {},
     "output_type": "execute_result"
    }
   ],
   "source": [
    "all_emails_tfidf_sent=tfidf_transformer_sent.transform(all_emails_matrix_sent)\n",
    "all_emails_tfidf_sent.shape"
   ]
  },
  {
   "cell_type": "code",
   "execution_count": 67,
   "id": "47d403f7",
   "metadata": {},
   "outputs": [
    {
     "data": {
      "text/plain": [
       "True"
      ]
     },
     "execution_count": 67,
     "metadata": {},
     "output_type": "execute_result"
    }
   ],
   "source": [
    "prediction=model_log.predict(all_emails_tfidf_sent)\n",
    "result=prediction.all()\n",
    "result"
   ]
  },
  {
   "cell_type": "code",
   "execution_count": 68,
   "id": "9461cf68",
   "metadata": {},
   "outputs": [
    {
     "name": "stdout",
     "output_type": "stream",
     "text": [
      "This is a Non Abusive Email\n"
     ]
    }
   ],
   "source": [
    "if result==False:\n",
    "    print('This is a Abusive Email')\n",
    "else:\n",
    "    print('This is a Non Abusive Email')"
   ]
  },
  {
   "cell_type": "code",
   "execution_count": null,
   "id": "597ed8af",
   "metadata": {},
   "outputs": [],
   "source": []
  }
 ],
 "metadata": {
  "kernelspec": {
   "display_name": "Python 3 (ipykernel)",
   "language": "python",
   "name": "python3"
  },
  "language_info": {
   "codemirror_mode": {
    "name": "ipython",
    "version": 3
   },
   "file_extension": ".py",
   "mimetype": "text/x-python",
   "name": "python",
   "nbconvert_exporter": "python",
   "pygments_lexer": "ipython3",
   "version": "3.11.5"
  }
 },
 "nbformat": 4,
 "nbformat_minor": 5
}
